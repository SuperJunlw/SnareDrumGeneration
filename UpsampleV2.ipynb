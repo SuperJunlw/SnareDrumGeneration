{
  "nbformat": 4,
  "nbformat_minor": 0,
  "metadata": {
    "colab": {
      "provenance": [],
      "machine_shape": "hm",
      "gpuType": "A100"
    },
    "kernelspec": {
      "name": "python3",
      "display_name": "Python 3"
    },
    "language_info": {
      "name": "python"
    },
    "accelerator": "GPU"
  },
  "cells": [
    {
      "cell_type": "code",
      "execution_count": 1,
      "metadata": {
        "id": "9HSXEFXvp706"
      },
      "outputs": [],
      "source": [
        "import torch\n",
        "import torchaudio\n",
        "import torch.nn as nn\n",
        "import torch.nn.functional as F\n",
        "from torch.utils.data import Dataset, DataLoader\n",
        "from torch.utils.checkpoint import checkpoint as torch_checkpoint\n",
        "import random\n",
        "from typing import List, Tuple\n",
        "import numpy as np\n",
        "from pathlib import Path\n",
        "from tqdm import tqdm\n",
        "import sys\n",
        "import os\n",
        "import matplotlib.pyplot as plt\n",
        "from collections import defaultdict\n",
        "import pickle\n",
        "from torch.utils.tensorboard import SummaryWriter"
      ]
    },
    {
      "cell_type": "markdown",
      "source": [
        "## DrumSampleDataset Class"
      ],
      "metadata": {
        "id": "S1Rr0ANyfVKx"
      }
    },
    {
      "cell_type": "code",
      "source": [
        "class DrumSampleDataset(Dataset):\n",
        "    def __init__(self,\n",
        "                 audio_dir: str,\n",
        "                 hr_segment_length: int = 88200,  # 2 seconds at 44.1kHz\n",
        "                 lr_segment_length: int = 44100,  # 2 seconds at 22.05kHz\n",
        "                 hr_sample_rate: int = 44100,\n",
        "                 lr_sample_rate: int = 22050):\n",
        "        print(\"Initializing DrumSampleDataset...\")\n",
        "        self.audio_dir = Path(audio_dir)\n",
        "        self.hr_segment_length = hr_segment_length\n",
        "        self.lr_segment_length = lr_segment_length\n",
        "        self.hr_sample_rate = hr_sample_rate\n",
        "        self.lr_sample_rate = lr_sample_rate\n",
        "\n",
        "        self.audio_files = list(self.audio_dir.glob(\"*.wav\"))\n",
        "        print(f\"Found {len(self.audio_files)} audio files.\")\n",
        "        assert len(self.audio_files) > 0, \"No .wav files found in the specified directory.\"\n",
        "\n",
        "        # Initialize resampler for creating LR version\n",
        "        self.downsample = torchaudio.transforms.Resample(\n",
        "            self.hr_sample_rate, self.lr_sample_rate\n",
        "        )\n",
        "\n",
        "    def __len__(self) -> int:\n",
        "        return len(self.audio_files)\n",
        "\n",
        "    def __getitem__(self, idx: int) -> Tuple[torch.Tensor, torch.Tensor]:\n",
        "        file_path = self.audio_files[idx]\n",
        "        lr_audio, hr_audio = self.load_and_process_audio(file_path)\n",
        "        return lr_audio, hr_audio\n",
        "\n",
        "    def load_and_process_audio(self, file_path: Path) -> Tuple[torch.Tensor, torch.Tensor]:\n",
        "        waveform, sample_rate = torchaudio.load(file_path)\n",
        "        # Convert to mono if stereo\n",
        "        if waveform.shape[0] > 1:\n",
        "            waveform = torch.mean(waveform, dim=0, keepdim=True)\n",
        "            print(f\"Converted to mono: {waveform.shape}\")\n",
        "\n",
        "        # Resample if sample rates do not match\n",
        "        if sample_rate != self.hr_sample_rate:\n",
        "            resampler = torchaudio.transforms.Resample(sample_rate, self.hr_sample_rate)\n",
        "            waveform = resampler(waveform)\n",
        "\n",
        "        # Pad or trim HR audio to 2 seconds\n",
        "        if waveform.shape[1] < self.hr_segment_length:\n",
        "            pad_length = self.hr_segment_length - waveform.shape[1]\n",
        "            waveform = F.pad(waveform, (0, pad_length))\n",
        "        elif waveform.shape[1] > self.hr_segment_length:\n",
        "            waveform = waveform[:, :self.hr_segment_length]\n",
        "\n",
        "        # Downsample original audio to 22.05kHz\n",
        "        lr_audio = self.downsample(waveform)\n",
        "\n",
        "        # Pad or trim LR audio to 2 seconds\n",
        "        if lr_audio.shape[1] < self.lr_segment_length:\n",
        "            pad_length = self.lr_segment_length - lr_audio.shape[1]\n",
        "            lr_audio = F.pad(lr_audio, (0, pad_length))\n",
        "        elif lr_audio.shape[1] > self.lr_segment_length:\n",
        "            lr_audio = lr_audio[:, :self.lr_segment_length]\n",
        "\n",
        "        # Normalize\n",
        "        hr_audio = waveform / (torch.max(torch.abs(waveform)) + 1e-7)\n",
        "        lr_audio = lr_audio / (torch.max(torch.abs(lr_audio)) + 1e-7)\n",
        "\n",
        "        return lr_audio, hr_audio"
      ],
      "metadata": {
        "id": "VIS_MrZTqCVA"
      },
      "execution_count": 2,
      "outputs": []
    },
    {
      "cell_type": "markdown",
      "source": [
        "## Dataloaders"
      ],
      "metadata": {
        "id": "20Uf-Q4igtS3"
      }
    },
    {
      "cell_type": "code",
      "source": [
        "def create_dataloaders(\n",
        "    audio_dir: str,\n",
        "    batch_size: int = 32,\n",
        "    train_split: float = 0.8,\n",
        "    num_workers: int = 4\n",
        ") -> Tuple[DataLoader, DataLoader]:\n",
        "    print(\"Creating dataloaders...\")\n",
        "    dataset = DrumSampleDataset(audio_dir)\n",
        "\n",
        "    indices = list(range(len(dataset)))\n",
        "    random.shuffle(indices)\n",
        "    split = int(train_split * len(dataset))\n",
        "    train_indices = indices[:split]\n",
        "    val_indices = indices[split:]\n",
        "    print(f\"Split dataset: {len(train_indices)} training files, {len(val_indices)} validation files.\")\n",
        "\n",
        "    train_sampler = torch.utils.data.SubsetRandomSampler(train_indices)\n",
        "    val_sampler = torch.utils.data.SubsetRandomSampler(val_indices)\n",
        "\n",
        "    train_loader = DataLoader(\n",
        "        dataset,\n",
        "        batch_size=batch_size,\n",
        "        sampler=train_sampler,\n",
        "        num_workers=num_workers,\n",
        "        pin_memory=True\n",
        "    )\n",
        "    val_loader = DataLoader(\n",
        "        dataset,\n",
        "        batch_size=batch_size,\n",
        "        sampler=val_sampler,\n",
        "        num_workers=num_workers,\n",
        "        pin_memory=True\n",
        "    )\n",
        "\n",
        "    print(\"Dataloaders created.\")\n",
        "    return train_loader, val_loader"
      ],
      "metadata": {
        "id": "aiVcfkh2qFu_"
      },
      "execution_count": 3,
      "outputs": []
    },
    {
      "cell_type": "code",
      "source": [
        "class ResidualBlock(nn.Module):\n",
        "    def __init__(self, channels):\n",
        "        super(ResidualBlock, self).__init__()\n",
        "        self.conv1 = nn.Conv1d(channels, channels, kernel_size=3, padding=1)\n",
        "        self.conv2 = nn.Conv1d(channels, channels, kernel_size=3, padding=1)\n",
        "        self.leaky_relu = nn.LeakyReLU(0.2)\n",
        "\n",
        "    def forward(self, x):\n",
        "        def forward_fn(input):\n",
        "            out = self.leaky_relu(self.conv1(input))\n",
        "            out = self.conv2(out)\n",
        "            return out\n",
        "\n",
        "        return x + torch_checkpoint(forward_fn, x)"
      ],
      "metadata": {
        "id": "vPaIY_cwqKwl"
      },
      "execution_count": 4,
      "outputs": []
    },
    {
      "cell_type": "markdown",
      "source": [
        "## Custom Frequency-based L1 Loss Function"
      ],
      "metadata": {
        "id": "yB6zFjIChUvc"
      }
    },
    {
      "cell_type": "code",
      "source": [
        "class FrequencyAwareSpectralLoss(nn.Module):\n",
        "    def __init__(self, n_fft=2048, hop_length=512):\n",
        "        super(FrequencyAwareSpectralLoss, self).__init__()\n",
        "        self.n_fft = n_fft\n",
        "        self.hop_length = hop_length\n",
        "\n",
        "        self.sub_weight = nn.Parameter(torch.ones(1))\n",
        "        self.low_weight = nn.Parameter(torch.ones(1))\n",
        "        self.mid_weight = nn.Parameter(torch.ones(1))\n",
        "        self.high_weight = nn.Parameter(torch.ones(1))\n",
        "\n",
        "    def get_positive_weights(self):\n",
        "        # Use softplus to ensure weights are always positive\n",
        "        return {\n",
        "            'sub': F.softplus(self.sub_weight) * 0.1,  # Reduced weight for sub-bass\n",
        "            'low': F.softplus(self.low_weight),\n",
        "            'mid': F.softplus(self.mid_weight) * 1.5,  # Increased weight for mids\n",
        "            'high': F.softplus(self.high_weight) * 2.0  # Increased weight for highs\n",
        "        }\n",
        "\n",
        "    def forward(self, x, y):\n",
        "        if x.dim() == 2:\n",
        "            x = x.unsqueeze(1)\n",
        "        if y.dim() == 2:\n",
        "            y = y.unsqueeze(1)\n",
        "\n",
        "        weights = self.get_positive_weights()\n",
        "\n",
        "        # Pad if necessary\n",
        "        pad_length = max(0, self.n_fft // 2 - x.shape[-1] % (self.n_fft // 2))\n",
        "        if pad_length > 0:\n",
        "            x = F.pad(x, (0, pad_length))\n",
        "            y = F.pad(y, (0, pad_length))\n",
        "\n",
        "        # Compute STFTs\n",
        "        window = torch.hann_window(self.n_fft).to(x.device)\n",
        "        x_spec = torch.stft(\n",
        "            x.squeeze(1), n_fft=self.n_fft, hop_length=self.hop_length,\n",
        "            window=window, return_complex=True\n",
        "        )\n",
        "        y_spec = torch.stft(\n",
        "            y.squeeze(1), n_fft=self.n_fft, hop_length=self.hop_length,\n",
        "            window=window, return_complex=True\n",
        "        )\n",
        "\n",
        "        # Compute magnitude spectrograms\n",
        "        x_mag = torch.abs(x_spec)\n",
        "        y_mag = torch.abs(y_spec)\n",
        "\n",
        "        # Define frequency band indices\n",
        "        sub_idx = self.n_fft // 64    # 0-100 Hz\n",
        "        low_idx = self.n_fft // 16    # 100-400 Hz\n",
        "        mid_idx = self.n_fft // 4     # 400-2000 Hz\n",
        "\n",
        "        # band-specific losses\n",
        "        sub_loss = weights['sub'] * F.l1_loss(\n",
        "            x_mag[:, :sub_idx, :],\n",
        "            y_mag[:, :sub_idx, :]\n",
        "        )\n",
        "\n",
        "        low_loss = weights['low'] * F.l1_loss(\n",
        "            x_mag[:, sub_idx:low_idx, :],\n",
        "            y_mag[:, sub_idx:low_idx, :]\n",
        "        )\n",
        "\n",
        "        mid_loss = weights['mid'] * F.l1_loss(\n",
        "            x_mag[:, low_idx:mid_idx, :],\n",
        "            y_mag[:, low_idx:mid_idx, :]\n",
        "        )\n",
        "\n",
        "        high_loss = weights['high'] * F.l1_loss(\n",
        "            x_mag[:, mid_idx:, :],\n",
        "            y_mag[:, mid_idx:, :]\n",
        "        )\n",
        "\n",
        "        total_loss = sub_loss + low_loss + mid_loss + high_loss + 1e-8\n",
        "\n",
        "        return total_loss"
      ],
      "metadata": {
        "id": "kCNZYZV6qNsn"
      },
      "execution_count": 5,
      "outputs": []
    },
    {
      "cell_type": "markdown",
      "source": [
        "## Frequency-Aware Upsampling Model"
      ],
      "metadata": {
        "id": "eHfoOlumiDsk"
      }
    },
    {
      "cell_type": "code",
      "source": [
        "class FrequencyAwareUpsampling(nn.Module):\n",
        "    def __init__(self):\n",
        "        super(FrequencyAwareUpsampling, self).__init__()\n",
        "\n",
        "        # Sub-bass suppression branch\n",
        "        self.sub_suppress = nn.Sequential(\n",
        "            nn.Conv1d(1, 32, kernel_size=101, padding=50),\n",
        "            nn.LeakyReLU(0.2),\n",
        "            nn.Conv1d(32, 1, kernel_size=101, padding=50),\n",
        "            nn.Sigmoid()  # Output scaling factor for sub frequencies\n",
        "        )\n",
        "\n",
        "        # Time domain branch\n",
        "        self.time_branch = nn.Sequential(\n",
        "            nn.Conv1d(1, 64, kernel_size=15, stride=1, padding=7),\n",
        "            nn.LeakyReLU(0.2),\n",
        "            nn.Conv1d(64, 128, kernel_size=41, stride=2, padding=20),\n",
        "            nn.LeakyReLU(0.2)\n",
        "        )\n",
        "\n",
        "        self.spec_branch = SpectralProcessor()\n",
        "\n",
        "        # Modified fusion path with frequency-aware processing\n",
        "        self.fusion = nn.Sequential(\n",
        "            nn.Conv1d(128 + (128 * 64), 512, kernel_size=7, padding=3),\n",
        "            nn.LeakyReLU(0.2),\n",
        "            ResidualBlock(512),\n",
        "            ResidualBlock(512),\n",
        "            nn.ConvTranspose1d(512, 256, kernel_size=41, stride=2, padding=20, output_padding=1),\n",
        "            nn.LeakyReLU(0.2),\n",
        "            nn.Conv1d(256, 1, kernel_size=15, stride=1, padding=7),\n",
        "            nn.Tanh()\n",
        "        )\n",
        "\n",
        "        # High-frequency enhancement branch\n",
        "        self.high_enhance = nn.Sequential(\n",
        "            nn.Conv1d(1, 32, kernel_size=31, padding=15),\n",
        "            nn.LeakyReLU(0.2),\n",
        "            nn.Conv1d(32, 1, kernel_size=31, padding=15),\n",
        "            nn.Sigmoid()\n",
        "        )\n",
        "\n",
        "    def forward(self, x):\n",
        "        if x.dim() == 2:\n",
        "            x = x.unsqueeze(1)\n",
        "\n",
        "        sub_mask = self.sub_suppress(x)\n",
        "        x = x * sub_mask\n",
        "\n",
        "        time_features = self.time_branch(x)\n",
        "        spec_features = self.spec_branch(x)\n",
        "\n",
        "        # Align dimensions\n",
        "        time_length = time_features.shape[-1]\n",
        "        spec_features = F.interpolate(\n",
        "            spec_features,\n",
        "            size=time_length,\n",
        "            mode='linear',\n",
        "            align_corners=False\n",
        "        )\n",
        "\n",
        "        # Fusion and upsampling\n",
        "        fused_features = torch.cat([time_features, spec_features], dim=1)\n",
        "        output = self.fusion(fused_features)\n",
        "\n",
        "        # High frequency enhancement\n",
        "        high_mask = self.high_enhance(output)\n",
        "        output = output * high_mask  # Apply high-frequency enhancement\n",
        "\n",
        "        # Final upsampling to target length\n",
        "        target_length = 88200  # 2 seconds at 44.1kHz\n",
        "        output = F.interpolate(\n",
        "            output,\n",
        "            size=target_length,\n",
        "            mode='linear',\n",
        "            align_corners=False\n",
        "        )\n",
        "\n",
        "        return output"
      ],
      "metadata": {
        "id": "zM9meO7Ayuq0"
      },
      "execution_count": 6,
      "outputs": []
    },
    {
      "cell_type": "markdown",
      "source": [
        "## Frequency Band Split"
      ],
      "metadata": {
        "id": "KqP9Uzv-ifNO"
      }
    },
    {
      "cell_type": "code",
      "source": [
        "class FrequencyBandSplit(nn.Module):\n",
        "    def __init__(self):\n",
        "        super(FrequencyBandSplit, self).__init__()\n",
        "        self.sub_attention = nn.Sequential(\n",
        "            nn.Conv2d(32, 32, kernel_size=(3, 3), padding=1),\n",
        "            nn.Sigmoid()\n",
        "        )\n",
        "        self.high_attention = nn.Sequential(\n",
        "            nn.Conv2d(32, 32, kernel_size=(3, 3), padding=1),\n",
        "            nn.Sigmoid()\n",
        "        )\n",
        "\n",
        "    def forward(self, x):\n",
        "        sub_mask = self.sub_attention(x)\n",
        "        high_mask = self.high_attention(x)\n",
        "\n",
        "        # Create frequency band masks\n",
        "        freq_bins = x.shape[2]\n",
        "        sub_range = slice(None, freq_bins//8)\n",
        "        high_range = slice(freq_bins//2, None)\n",
        "\n",
        "        # Initialize a ones tensor for the middle frequencies\n",
        "        mid_mask = torch.ones_like(x)\n",
        "\n",
        "        # Apply different attentions to different frequency ranges\n",
        "        x = x * (1 - sub_mask)  # Suppress sub frequencies\n",
        "        x = x * torch.where(\n",
        "            torch.arange(freq_bins, device=x.device).view(1, 1, -1, 1) >= freq_bins//2,\n",
        "            high_mask,\n",
        "            mid_mask\n",
        "        )\n",
        "\n",
        "        return x\n",
        "\n",
        "class SpectralProcessor(nn.Module):\n",
        "    def __init__(self, n_fft=1024, hop_length=256):\n",
        "        super(SpectralProcessor, self).__init__()\n",
        "        self.n_fft = n_fft\n",
        "        self.hop_length = hop_length\n",
        "\n",
        "        self.spec_encoder = nn.Sequential(\n",
        "            nn.Conv2d(2, 32, kernel_size=(3, 3), padding=1),\n",
        "            nn.LeakyReLU(0.2),\n",
        "            FrequencyBandSplit(),\n",
        "            nn.Conv2d(32, 64, kernel_size=(3, 3), padding=1),\n",
        "            nn.LeakyReLU(0.2),\n",
        "            nn.Conv2d(64, 128, kernel_size=(3, 3), padding=1),\n",
        "            nn.LeakyReLU(0.2),\n",
        "            # Move the frequency reduction after all processing\n",
        "            nn.AdaptiveAvgPool2d((64, None))  # Reduce frequency bins to 64\n",
        "        )\n",
        "\n",
        "    def forward(self, x):\n",
        "        # Pad inputs if necessary\n",
        "        pad_length = max(0, self.n_fft // 2 - x.shape[-1] % (self.n_fft // 2))\n",
        "        if pad_length > 0:\n",
        "            x = F.pad(x, (0, pad_length))\n",
        "\n",
        "        # Compute STFT\n",
        "        window = torch.hann_window(self.n_fft).to(x.device)\n",
        "        spec = torch.stft(\n",
        "            x.squeeze(1), n_fft=self.n_fft, hop_length=self.hop_length,\n",
        "            window=window, return_complex=True\n",
        "        )\n",
        "\n",
        "        # Magnitude and phase\n",
        "        mag = torch.log1p(torch.abs(spec))\n",
        "        phase = torch.angle(spec)\n",
        "        spec_input = torch.stack([mag, phase], dim=1)  # [batch, 2, freq_bins, time_steps]\n",
        "\n",
        "        # Process spectral features\n",
        "        spec_features = self.spec_encoder(spec_input)  # [batch, 128, 64, time_steps]\n",
        "\n",
        "        # Flatten frequency bins and channels\n",
        "        batch_size, channels, freq_bins, time_steps = spec_features.shape\n",
        "        return spec_features.view(batch_size, channels * freq_bins, time_steps)"
      ],
      "metadata": {
        "id": "HmCVHUWQqRgH"
      },
      "execution_count": 7,
      "outputs": []
    },
    {
      "cell_type": "markdown",
      "source": [
        "## Training"
      ],
      "metadata": {
        "id": "iVGJkS9Biv2l"
      }
    },
    {
      "cell_type": "code",
      "source": [
        "def calculate_snr(output, target):\n",
        "    \"\"\"Calculate Signal-to-Noise Ratio in decibels\"\"\"\n",
        "    noise = target - output\n",
        "    signal_power = torch.mean(target ** 2)\n",
        "    noise_power = torch.mean(noise ** 2)\n",
        "    snr = 10 * torch.log10(signal_power / (noise_power + 1e-10))\n",
        "    return snr.item()\n",
        "\n",
        "def train_model(\n",
        "    model,\n",
        "    train_loader,\n",
        "    val_loader,\n",
        "    num_epochs,\n",
        "    device,\n",
        "    checkpoint_dir: str = \"checkpoints\",\n",
        "    save_frequency: int = 1,\n",
        "    initial_lr: float = 0.0001,\n",
        "    max_grad_norm: float = 1.0,\n",
        "    weight_decay: float = 1e-6,\n",
        "    early_stopping_patience: int = 20,\n",
        "    disable_pbar: bool = False\n",
        "):\n",
        "    print(\"Starting training...\")\n",
        "    writer = SummaryWriter('runs/experiment_name')\n",
        "\n",
        "    time_criterion = nn.L1Loss()\n",
        "    spectral_criterion = FrequencyAwareSpectralLoss().to(device)\n",
        "\n",
        "    optimizer = torch.optim.Adam(\n",
        "        list(model.parameters()) + list(spectral_criterion.parameters()),\n",
        "        lr=initial_lr,\n",
        "        weight_decay=weight_decay\n",
        "    )\n",
        "\n",
        "    scheduler = torch.optim.lr_scheduler.ReduceLROnPlateau(\n",
        "        optimizer,\n",
        "        mode='min',\n",
        "        factor=0.5,\n",
        "        patience=2,\n",
        "        min_lr=1e-6\n",
        "    )\n",
        "\n",
        "    Path(checkpoint_dir).mkdir(parents=True, exist_ok=True)\n",
        "    best_val_loss = float('inf')\n",
        "    patience_counter = 0\n",
        "    history = defaultdict(list)\n",
        "\n",
        "    for epoch in range(num_epochs):\n",
        "        torch.cuda.empty_cache()\n",
        "        model.train()\n",
        "        train_losses = []\n",
        "        train_snrs = []\n",
        "        train_mse = []\n",
        "\n",
        "        with tqdm(total=len(train_loader),\n",
        "                 desc=f'Epoch {epoch+1}/{num_epochs}',\n",
        "                 leave=True,\n",
        "                 disable=disable_pbar,\n",
        "                 dynamic_ncols=True) as pbar:\n",
        "            for lr_audio, hr_audio in train_loader:\n",
        "                lr_audio, hr_audio = lr_audio.to(device), hr_audio.to(device)\n",
        "                optimizer.zero_grad()\n",
        "\n",
        "                output = model(lr_audio)\n",
        "                time_loss = time_criterion(output, hr_audio)\n",
        "                spec_loss = spectral_criterion(output, hr_audio)\n",
        "\n",
        "                spec_weight = min(1.0, epoch / 10)\n",
        "                total_loss = time_loss + spec_weight * spec_loss\n",
        "\n",
        "                total_loss.backward()\n",
        "                torch.nn.utils.clip_grad_norm_(model.parameters(), max_grad_norm)\n",
        "                optimizer.step()\n",
        "\n",
        "                # Calculate metrics\n",
        "                with torch.no_grad():\n",
        "                    snr = calculate_snr(output, hr_audio)\n",
        "                    mse = F.mse_loss(output, hr_audio).item()\n",
        "\n",
        "                train_losses.append(total_loss.item())\n",
        "                train_snrs.append(snr)\n",
        "                train_mse.append(mse)\n",
        "\n",
        "                pbar.set_postfix({\n",
        "                    'loss': f'{total_loss.item():.4f}',\n",
        "                    'SNR': f'{snr:.2f}dB'\n",
        "                })\n",
        "                pbar.update(1)\n",
        "\n",
        "        # Calculate average training metrics\n",
        "        epoch_train_loss = np.mean(train_losses)\n",
        "        epoch_train_snr = np.mean(train_snrs)\n",
        "        epoch_train_mse = np.mean(train_mse)\n",
        "\n",
        "        history['train_loss'].append(epoch_train_loss)\n",
        "        history['train_snr'].append(epoch_train_snr)\n",
        "        history['train_mse'].append(epoch_train_mse)\n",
        "\n",
        "        writer.add_scalar('Loss/train', epoch_train_loss, epoch)\n",
        "        writer.add_scalar('SNR/train', epoch_train_snr, epoch)\n",
        "        writer.add_scalar('MSE/train', epoch_train_mse, epoch)\n",
        "\n",
        "        # Validation phase\n",
        "        model.eval()\n",
        "        val_losses = []\n",
        "        val_snrs = []\n",
        "        val_mse = []\n",
        "\n",
        "        with torch.no_grad():\n",
        "            for lr_audio, hr_audio in val_loader:\n",
        "                lr_audio, hr_audio = lr_audio.to(device), hr_audio.to(device)\n",
        "                output = model(lr_audio)\n",
        "                time_loss = time_criterion(output, hr_audio)\n",
        "                spec_loss = spectral_criterion(output, hr_audio)\n",
        "                batch_val_loss = (time_loss + 0.5 * spec_loss).item()\n",
        "\n",
        "                # Calculate validation metrics\n",
        "                snr = calculate_snr(output, hr_audio)\n",
        "                mse = F.mse_loss(output, hr_audio).item()\n",
        "\n",
        "                val_losses.append(batch_val_loss)\n",
        "                val_snrs.append(snr)\n",
        "                val_mse.append(mse)\n",
        "\n",
        "        epoch_val_loss = np.mean(val_losses)\n",
        "        epoch_val_snr = np.mean(val_snrs)\n",
        "        epoch_val_mse = np.mean(val_mse)\n",
        "\n",
        "        history['val_loss'].append(epoch_val_loss)\n",
        "        history['val_snr'].append(epoch_val_snr)\n",
        "        history['val_mse'].append(epoch_val_mse)\n",
        "\n",
        "        writer.add_scalar('Loss/val', epoch_val_loss, epoch)\n",
        "        writer.add_scalar('SNR/val', epoch_val_snr, epoch)\n",
        "        writer.add_scalar('MSE/val', epoch_val_mse, epoch)\n",
        "\n",
        "        scheduler.step(epoch_val_loss)\n",
        "        current_lr = optimizer.param_groups[0]['lr']\n",
        "\n",
        "        tqdm.write(f\"Epoch [{epoch+1}/{num_epochs}] - \"\n",
        "                  f\"Train Loss: {epoch_train_loss:.4f}, SNR: {epoch_train_snr:.2f}dB, MSE: {epoch_train_mse:.6f}, \"\n",
        "                  f\"Val Loss: {epoch_val_loss:.4f}, SNR: {epoch_val_snr:.2f}dB, MSE: {epoch_val_mse:.6f}, \"\n",
        "                  f\"LR: {current_lr:.2e}\")\n",
        "\n",
        "        if epoch_val_loss < best_val_loss:\n",
        "            best_val_loss = epoch_val_loss\n",
        "            checkpoint_path = Path(checkpoint_dir) / \"best_model.pth\"\n",
        "            save_checkpoint(\n",
        "                model, optimizer, scheduler, epoch,\n",
        "                epoch_train_loss, epoch_val_loss, checkpoint_path,\n",
        "                metrics={'snr': epoch_val_snr, 'mse': epoch_val_mse}\n",
        "            )\n",
        "            print(f\"New best model saved (val_loss: {epoch_val_loss:.4f}, SNR: {epoch_val_snr:.2f}dB)\")\n",
        "            patience_counter = 0\n",
        "        else:\n",
        "            patience_counter += 1\n",
        "\n",
        "        if patience_counter >= early_stopping_patience:\n",
        "            print(f\"\\nEarly stopping triggered after {epoch+1} epochs\")\n",
        "            break\n",
        "\n",
        "        if (epoch + 1) % save_frequency == 0:\n",
        "            checkpoint_path = Path(checkpoint_dir) / f\"checkpoint_epoch_{epoch+1}.pth\"\n",
        "            save_checkpoint(\n",
        "                model, optimizer, scheduler, epoch,\n",
        "                epoch_train_loss, epoch_val_loss, checkpoint_path,\n",
        "                metrics={'snr': epoch_val_snr, 'mse': epoch_val_mse}\n",
        "            )\n",
        "\n",
        "    return model, history"
      ],
      "metadata": {
        "id": "ANzK8xTSqj-r"
      },
      "execution_count": 8,
      "outputs": []
    },
    {
      "cell_type": "code",
      "source": [
        "def save_checkpoint(model, optimizer, scheduler, epoch, train_loss, val_loss, filepath, metrics=None):\n",
        "    checkpoint = {\n",
        "        'model_state_dict': model.state_dict(),\n",
        "        'optimizer_state_dict': optimizer.state_dict(),\n",
        "        'scheduler_state_dict': scheduler.state_dict(),\n",
        "        'epoch': epoch,\n",
        "        'train_loss': train_loss,\n",
        "        'val_loss': val_loss\n",
        "    }\n",
        "    if metrics is not None:\n",
        "        checkpoint.update(metrics)\n",
        "\n",
        "    torch.save(checkpoint, filepath)\n",
        "\n",
        "def load_checkpoint(model, checkpoint_path, device=None):\n",
        "    if device is None:\n",
        "        device = torch.device('cuda' if torch.cuda.is_available() else 'cpu')\n",
        "\n",
        "    checkpoint = torch.load(checkpoint_path, map_location=device)\n",
        "    model.load_state_dict(checkpoint['model_state_dict'])\n",
        "\n",
        "    metrics = {}\n",
        "    for key in ['snr', 'mse']:\n",
        "        if key in checkpoint:\n",
        "            metrics[key] = checkpoint[key]\n",
        "\n",
        "    return model, checkpoint, metrics"
      ],
      "metadata": {
        "id": "ilVmHJb0qnxK"
      },
      "execution_count": 9,
      "outputs": []
    },
    {
      "cell_type": "markdown",
      "source": [
        "## Inference"
      ],
      "metadata": {
        "id": "zzrbpGHvi49G"
      }
    },
    {
      "cell_type": "code",
      "source": [
        "def inference(\n",
        "    model: nn.Module,\n",
        "    input_file: str,\n",
        "    output_file: str,\n",
        "    device: str = \"cuda\" if torch.cuda.is_available() else \"cpu\"\n",
        ") -> None:\n",
        "    \"\"\"\n",
        "    Perform inference on an audio file to create a high-resolution version.\n",
        "    \"\"\"\n",
        "    # Load and process input audio\n",
        "    lr_audio = load_for_inference(input_file)\n",
        "\n",
        "    model.eval()\n",
        "\n",
        "    model = model.to(device)\n",
        "    lr_audio = lr_audio.to(device)\n",
        "\n",
        "    with torch.no_grad():\n",
        "        chunk_size = 44100  # 2 seconds at 22.05kHz\n",
        "        output_chunks = []\n",
        "\n",
        "        for i in range(0, lr_audio.shape[1], chunk_size):\n",
        "            chunk = lr_audio[:, i:i + chunk_size]\n",
        "\n",
        "            # Pad if necessary\n",
        "            if chunk.shape[1] < chunk_size:\n",
        "                pad_length = chunk_size - chunk.shape[1]\n",
        "                chunk = F.pad(chunk, (0, pad_length))\n",
        "\n",
        "            if chunk.dim() == 2:\n",
        "                chunk = chunk.unsqueeze(0)  # Add batch dimension if needed\n",
        "\n",
        "            output_chunk = model(chunk)\n",
        "\n",
        "            if i + chunk_size > lr_audio.shape[1] and pad_length > 0:\n",
        "                samples_to_remove = pad_length * 2  # multiply by 2 for 44.1kHz\n",
        "                output_chunk = output_chunk[:, :, :-samples_to_remove]\n",
        "\n",
        "            output_chunks.append(output_chunk.cpu())\n",
        "\n",
        "        # Concatenate chunks\n",
        "        final_output = torch.cat(output_chunks, dim=2)\n",
        "\n",
        "        expected_length = lr_audio.shape[1] * 2\n",
        "        if final_output.shape[2] != expected_length:\n",
        "            final_output = F.interpolate(\n",
        "                final_output,\n",
        "                size=expected_length,\n",
        "                mode='linear',\n",
        "                align_corners=False\n",
        "            )\n",
        "\n",
        "        # Normalize\n",
        "        final_output = final_output / torch.max(torch.abs(final_output))\n",
        "\n",
        "        final_output = final_output.cpu().squeeze(0)\n",
        "        lr_audio = lr_audio.cpu().squeeze(0)\n",
        "\n",
        "        import soundfile as sf\n",
        "        sf.write(output_file, final_output.numpy().T, 44100, 'PCM_16')\n",
        "        sf.write(\"original_audio_lr.wav\", lr_audio.numpy().T, 22050, 'PCM_16')\n",
        "        print(\"Successfully saved using soundfile\")\n",
        "\n",
        "def load_for_inference(\n",
        "    file_path: str,\n",
        "    hr_sample_rate: int = 44100,\n",
        "    lr_sample_rate: int = 22050\n",
        ") -> torch.Tensor:\n",
        "    downsample = torchaudio.transforms.Resample(hr_sample_rate, lr_sample_rate)\n",
        "\n",
        "    # Load audio\n",
        "    waveform, sample_rate = torchaudio.load(file_path)\n",
        "\n",
        "    # Convert to mono if stereo\n",
        "    if waveform.shape[0] > 1:\n",
        "        waveform = torch.mean(waveform, dim=0, keepdim=True)\n",
        "\n",
        "    # Resample if necessary\n",
        "    if sample_rate != hr_sample_rate:\n",
        "        resampler = torchaudio.transforms.Resample(sample_rate, hr_sample_rate)\n",
        "        waveform = resampler(waveform)\n",
        "\n",
        "    # Create low-resolution version (22.05kHz)\n",
        "    lr_audio = downsample(waveform)\n",
        "\n",
        "    # Normalize\n",
        "    lr_audio = lr_audio / (torch.max(torch.abs(lr_audio)) + 1e-7)\n",
        "\n",
        "    return lr_audio"
      ],
      "metadata": {
        "id": "vCg33NEjq0jW"
      },
      "execution_count": 10,
      "outputs": []
    },
    {
      "cell_type": "code",
      "source": [
        "def plot_metrics(history, save_path=None):\n",
        "    fig, (ax1, ax2, ax3) = plt.subplots(3, 1, figsize=(10, 15))\n",
        "    epochs = range(1, len(history['train_loss']) + 1)\n",
        "\n",
        "    # Plot losses\n",
        "    ax1.plot(epochs, history['train_loss'], 'b-', label='Training Loss')\n",
        "    ax1.plot(epochs, history['val_loss'], 'r-', label='Validation Loss')\n",
        "    ax1.set_title('Training and Validation Loss')\n",
        "    ax1.set_xlabel('Epochs')\n",
        "    ax1.set_ylabel('Loss')\n",
        "    ax1.legend()\n",
        "    ax1.grid(True)\n",
        "\n",
        "    # Plot SNR\n",
        "    ax2.plot(epochs, history['train_snr'], 'b-', label='Training SNR')\n",
        "    ax2.plot(epochs, history['val_snr'], 'r-', label='Validation SNR')\n",
        "    ax2.set_title('Signal-to-Noise Ratio')\n",
        "    ax2.set_xlabel('Epochs')\n",
        "    ax2.set_ylabel('SNR (dB)')\n",
        "    ax2.legend()\n",
        "    ax2.grid(True)\n",
        "\n",
        "    # Plot MSE\n",
        "    ax3.plot(epochs, history['train_mse'], 'b-', label='Training MSE')\n",
        "    ax3.plot(epochs, history['val_mse'], 'r-', label='Validation MSE')\n",
        "    ax3.set_title('Mean Squared Error')\n",
        "    ax3.set_xlabel('Epochs')\n",
        "    ax3.set_ylabel('MSE')\n",
        "    ax3.legend()\n",
        "    ax3.grid(True)\n",
        "\n",
        "    plt.tight_layout()\n",
        "\n",
        "    if save_path:\n",
        "        plt.savefig(save_path)\n",
        "        print(f\"Plot saved to {save_path}\")\n",
        "\n",
        "    plt.show()"
      ],
      "metadata": {
        "id": "wa34mqywzcgG"
      },
      "execution_count": null,
      "outputs": []
    },
    {
      "cell_type": "code",
      "source": [
        "def plot_losses(history, save_path=None):\n",
        "    plt.figure(figsize=(10, 6))\n",
        "    epochs = range(1, len(history['train_loss']) + 1)\n",
        "\n",
        "    # Plot training loss\n",
        "    plt.plot(epochs, history['train_loss'], 'b-', label='Training Loss')\n",
        "\n",
        "    # Plot validation loss\n",
        "    plt.plot(epochs, history['val_loss'], 'r-', label='Validation Loss')\n",
        "\n",
        "    plt.title('Training and Validation Loss')\n",
        "    plt.xlabel('Epochs')\n",
        "    plt.ylabel('Loss')\n",
        "    plt.legend()\n",
        "    plt.grid(True)\n",
        "\n",
        "    plt.tight_layout()\n",
        "\n",
        "    if save_path:\n",
        "        plt.savefig(save_path)\n",
        "        print(f\"Plot saved to {save_path}\")\n",
        "\n",
        "    plt.show()"
      ],
      "metadata": {
        "id": "y_EbLJ6uq1gk"
      },
      "execution_count": null,
      "outputs": []
    },
    {
      "cell_type": "code",
      "source": [
        "if __name__ == \"__main__\":\n",
        "    # For training\n",
        "    train_loader, val_loader = create_dataloaders(\n",
        "        audio_dir=\"/content/drive/MyDrive/snare_samples/16bit_mono_wavs_clipped_44100/training\",\n",
        "        batch_size=8\n",
        "    )\n",
        "\n",
        "    device = torch.device(\"cuda\" if torch.cuda.is_available() else \"cpu\")\n",
        "    model = FrequencyAwareUpsampling().to(device)\n",
        "\n",
        "    total_params = sum(p.numel() for p in model.parameters())\n",
        "    trainable_params = sum(p.numel() for p in model.parameters() if p.requires_grad)\n",
        "    print(f\"Total parameters: {total_params}\")\n",
        "    print(f\"Trainable parameters: {trainable_params}\")\n",
        "\n",
        "    # Check specific layers\n",
        "    for name, layer in model.named_modules():\n",
        "        if isinstance(layer, (nn.Conv1d, nn.ConvTranspose1d)):\n",
        "            print(f\"{name}: requires_grad = {layer.weight.requires_grad}\")\n",
        "\n",
        "    trained_model, history = train_model(\n",
        "        model=model,\n",
        "        train_loader=train_loader,\n",
        "        val_loader=val_loader,\n",
        "        num_epochs=100,\n",
        "        device=device,\n",
        "        initial_lr=0.0001\n",
        "    )\n",
        "\n",
        "    # Plot losses\n",
        "    plot_losses(history, save_path='loss_plot.png')\n",
        "\n",
        "    plot_metrics(history, save_path='metrics_plot.png')\n",
        "\n",
        "    model = FrequencyAwareUpsampling()\n",
        "    model, checkpoint, metrics = load_checkpoint(model, \"checkpoints/best_model.pth\")\n",
        "    if metrics:\n",
        "        print(f\"Loaded model metrics: SNR = {metrics.get('snr', 'N/A')}dB, MSE = {metrics.get('mse', 'N/A')}\")\n",
        "    print(f\"Loaded model from epoch {checkpoint['epoch']} with validation loss: {checkpoint['val_loss']:.4f}\")\n",
        "\n",
        "    inference(\n",
        "        model=model,\n",
        "        input_file=\"/content/drive/MyDrive/snare_samples/16bit_mono_wavs_clipped_22050/validation/SNARE_12_LUDWIG_20s_5x14_1-PLY_10_LUG_BOTTOM_CENTER_03_1.wav\",\n",
        "        output_file=\"output.wav\"\n",
        "    )"
      ],
      "metadata": {
        "id": "IuR8VGlVq-j9",
        "colab": {
          "base_uri": "https://localhost:8080/",
          "height": 1000
        },
        "outputId": "5c71c039-5670-413e-a79a-d12bf7b95716"
      },
      "execution_count": null,
      "outputs": [
        {
          "output_type": "stream",
          "name": "stdout",
          "text": [
            "Creating dataloaders...\n",
            "Initializing DrumSampleDataset...\n",
            "Found 5844 audio files.\n",
            "Split dataset: 4675 training files, 1169 validation files.\n",
            "Dataloaders created.\n",
            "Total parameters: 38802211\n",
            "Trainable parameters: 38802211\n",
            "sub_suppress.0: requires_grad = True\n",
            "sub_suppress.2: requires_grad = True\n",
            "time_branch.0: requires_grad = True\n",
            "time_branch.2: requires_grad = True\n",
            "fusion.0: requires_grad = True\n",
            "fusion.2.conv1: requires_grad = True\n",
            "fusion.2.conv2: requires_grad = True\n",
            "fusion.3.conv1: requires_grad = True\n",
            "fusion.3.conv2: requires_grad = True\n",
            "fusion.4: requires_grad = True\n",
            "fusion.6: requires_grad = True\n",
            "high_enhance.0: requires_grad = True\n",
            "high_enhance.2: requires_grad = True\n",
            "Starting training...\n"
          ]
        },
        {
          "output_type": "stream",
          "name": "stderr",
          "text": [
            "Epoch 1/100: 100%|██████████| 585/585 [07:09<00:00,  1.36it/s, loss=0.0040, SNR=12.33dB]\n"
          ]
        },
        {
          "output_type": "stream",
          "name": "stdout",
          "text": [
            "Epoch [1/100] - Train Loss: 0.0061, SNR: 10.01dB, MSE: 0.000903, Val Loss: 0.1195, SNR: 14.93dB, MSE: 0.000122, LR: 1.00e-04\n",
            "New best model saved (val_loss: 0.1195, SNR: 14.93dB)\n"
          ]
        },
        {
          "output_type": "stream",
          "name": "stderr",
          "text": [
            "Epoch 2/100: 100%|██████████| 585/585 [06:17<00:00,  1.55it/s, loss=0.0135, SNR=16.64dB]\n"
          ]
        },
        {
          "output_type": "stream",
          "name": "stdout",
          "text": [
            "Epoch [2/100] - Train Loss: 0.0130, SNR: 18.64dB, MSE: 0.000060, Val Loss: 0.0402, SNR: 20.22dB, MSE: 0.000039, LR: 1.00e-04\n",
            "New best model saved (val_loss: 0.0402, SNR: 20.22dB)\n"
          ]
        },
        {
          "output_type": "stream",
          "name": "stderr",
          "text": [
            "Epoch 3/100: 100%|██████████| 585/585 [06:18<00:00,  1.54it/s, loss=0.0149, SNR=19.94dB]\n"
          ]
        },
        {
          "output_type": "stream",
          "name": "stdout",
          "text": [
            "Epoch [3/100] - Train Loss: 0.0155, SNR: 20.75dB, MSE: 0.000036, Val Loss: 0.0324, SNR: 21.38dB, MSE: 0.000031, LR: 1.00e-04\n",
            "New best model saved (val_loss: 0.0324, SNR: 21.38dB)\n"
          ]
        },
        {
          "output_type": "stream",
          "name": "stderr",
          "text": [
            "Epoch 4/100: 100%|██████████| 585/585 [06:17<00:00,  1.55it/s, loss=0.0160, SNR=21.57dB]\n"
          ]
        },
        {
          "output_type": "stream",
          "name": "stdout",
          "text": [
            "Epoch [4/100] - Train Loss: 0.0187, SNR: 22.33dB, MSE: 0.000026, Val Loss: 0.0287, SNR: 23.18dB, MSE: 0.000020, LR: 1.00e-04\n",
            "New best model saved (val_loss: 0.0287, SNR: 23.18dB)\n"
          ]
        },
        {
          "output_type": "stream",
          "name": "stderr",
          "text": [
            "Epoch 5/100: 100%|██████████| 585/585 [06:15<00:00,  1.56it/s, loss=0.0192, SNR=22.58dB]\n"
          ]
        },
        {
          "output_type": "stream",
          "name": "stdout",
          "text": [
            "Epoch [5/100] - Train Loss: 0.0202, SNR: 24.14dB, MSE: 0.000017, Val Loss: 0.0221, SNR: 24.21dB, MSE: 0.000015, LR: 1.00e-04\n",
            "New best model saved (val_loss: 0.0221, SNR: 24.21dB)\n"
          ]
        },
        {
          "output_type": "stream",
          "name": "stderr",
          "text": [
            "Epoch 6/100: 100%|██████████| 585/585 [06:15<00:00,  1.56it/s, loss=0.0189, SNR=27.27dB]\n"
          ]
        },
        {
          "output_type": "stream",
          "name": "stdout",
          "text": [
            "Epoch [6/100] - Train Loss: 0.0213, SNR: 25.36dB, MSE: 0.000013, Val Loss: 0.0201, SNR: 25.42dB, MSE: 0.000011, LR: 1.00e-04\n",
            "New best model saved (val_loss: 0.0201, SNR: 25.42dB)\n"
          ]
        },
        {
          "output_type": "stream",
          "name": "stderr",
          "text": [
            "Epoch 7/100: 100%|██████████| 585/585 [06:15<00:00,  1.56it/s, loss=0.0194, SNR=27.60dB]\n"
          ]
        },
        {
          "output_type": "stream",
          "name": "stdout",
          "text": [
            "Epoch [7/100] - Train Loss: 0.0226, SNR: 26.36dB, MSE: 0.000010, Val Loss: 0.0182, SNR: 26.79dB, MSE: 0.000008, LR: 1.00e-04\n",
            "New best model saved (val_loss: 0.0182, SNR: 26.79dB)\n"
          ]
        },
        {
          "output_type": "stream",
          "name": "stderr",
          "text": [
            "Epoch 8/100: 100%|██████████| 585/585 [06:15<00:00,  1.56it/s, loss=0.0176, SNR=25.19dB]\n"
          ]
        },
        {
          "output_type": "stream",
          "name": "stdout",
          "text": [
            "Epoch [8/100] - Train Loss: 0.0233, SNR: 27.09dB, MSE: 0.000009, Val Loss: 0.0167, SNR: 27.43dB, MSE: 0.000008, LR: 1.00e-04\n",
            "New best model saved (val_loss: 0.0167, SNR: 27.43dB)\n"
          ]
        },
        {
          "output_type": "stream",
          "name": "stderr",
          "text": [
            "Epoch 9/100: 100%|██████████| 585/585 [06:15<00:00,  1.56it/s, loss=0.0176, SNR=29.43dB]\n"
          ]
        },
        {
          "output_type": "stream",
          "name": "stdout",
          "text": [
            "Epoch [9/100] - Train Loss: 0.0245, SNR: 27.57dB, MSE: 0.000008, Val Loss: 0.0145, SNR: 28.14dB, MSE: 0.000006, LR: 1.00e-04\n",
            "New best model saved (val_loss: 0.0145, SNR: 28.14dB)\n"
          ]
        },
        {
          "output_type": "stream",
          "name": "stderr",
          "text": [
            "Epoch 10/100: 100%|██████████| 585/585 [06:15<00:00,  1.56it/s, loss=0.0138, SNR=32.99dB]\n"
          ]
        },
        {
          "output_type": "stream",
          "name": "stdout",
          "text": [
            "Epoch [10/100] - Train Loss: 0.0257, SNR: 28.01dB, MSE: 0.000007, Val Loss: 0.0152, SNR: 27.56dB, MSE: 0.000007, LR: 1.00e-04\n"
          ]
        },
        {
          "output_type": "stream",
          "name": "stderr",
          "text": [
            "Epoch 11/100: 100%|██████████| 585/585 [06:15<00:00,  1.56it/s, loss=0.0212, SNR=26.88dB]\n"
          ]
        },
        {
          "output_type": "stream",
          "name": "stdout",
          "text": [
            "Epoch [11/100] - Train Loss: 0.0260, SNR: 28.47dB, MSE: 0.000006, Val Loss: 0.0128, SNR: 27.86dB, MSE: 0.000007, LR: 1.00e-04\n",
            "New best model saved (val_loss: 0.0128, SNR: 27.86dB)\n"
          ]
        },
        {
          "output_type": "stream",
          "name": "stderr",
          "text": [
            "Epoch 12/100: 100%|██████████| 585/585 [06:17<00:00,  1.55it/s, loss=0.0291, SNR=26.68dB]\n"
          ]
        },
        {
          "output_type": "stream",
          "name": "stdout",
          "text": [
            "Epoch [12/100] - Train Loss: 0.0245, SNR: 28.68dB, MSE: 0.000006, Val Loss: 0.0135, SNR: 27.06dB, MSE: 0.000008, LR: 1.00e-04\n"
          ]
        },
        {
          "output_type": "stream",
          "name": "stderr",
          "text": [
            "Epoch 13/100: 100%|██████████| 585/585 [06:14<00:00,  1.56it/s, loss=0.0124, SNR=38.32dB]\n"
          ]
        },
        {
          "output_type": "stream",
          "name": "stdout",
          "text": [
            "Epoch [13/100] - Train Loss: 0.0231, SNR: 28.82dB, MSE: 0.000006, Val Loss: 0.0128, SNR: 28.06dB, MSE: 0.000006, LR: 1.00e-04\n"
          ]
        },
        {
          "output_type": "stream",
          "name": "stderr",
          "text": [
            "Epoch 14/100: 100%|██████████| 585/585 [06:15<00:00,  1.56it/s, loss=0.0388, SNR=23.78dB]\n"
          ]
        },
        {
          "output_type": "stream",
          "name": "stdout",
          "text": [
            "Epoch [14/100] - Train Loss: 0.0219, SNR: 28.90dB, MSE: 0.000006, Val Loss: 0.0119, SNR: 28.85dB, MSE: 0.000005, LR: 1.00e-04\n",
            "New best model saved (val_loss: 0.0119, SNR: 28.85dB)\n"
          ]
        },
        {
          "output_type": "stream",
          "name": "stderr",
          "text": [
            "Epoch 15/100: 100%|██████████| 585/585 [06:16<00:00,  1.55it/s, loss=0.0217, SNR=29.76dB]\n"
          ]
        },
        {
          "output_type": "stream",
          "name": "stdout",
          "text": [
            "Epoch [15/100] - Train Loss: 0.0212, SNR: 29.02dB, MSE: 0.000006, Val Loss: 0.0112, SNR: 28.67dB, MSE: 0.000005, LR: 1.00e-04\n",
            "New best model saved (val_loss: 0.0112, SNR: 28.67dB)\n"
          ]
        },
        {
          "output_type": "stream",
          "name": "stderr",
          "text": [
            "Epoch 16/100: 100%|██████████| 585/585 [06:15<00:00,  1.56it/s, loss=0.0089, SNR=37.45dB]\n"
          ]
        },
        {
          "output_type": "stream",
          "name": "stdout",
          "text": [
            "Epoch [16/100] - Train Loss: 0.0201, SNR: 29.19dB, MSE: 0.000006, Val Loss: 0.0092, SNR: 29.74dB, MSE: 0.000005, LR: 1.00e-04\n",
            "New best model saved (val_loss: 0.0092, SNR: 29.74dB)\n"
          ]
        },
        {
          "output_type": "stream",
          "name": "stderr",
          "text": [
            "Epoch 17/100: 100%|██████████| 585/585 [06:15<00:00,  1.56it/s, loss=0.0184, SNR=29.51dB]\n"
          ]
        },
        {
          "output_type": "stream",
          "name": "stdout",
          "text": [
            "Epoch [17/100] - Train Loss: 0.0191, SNR: 29.33dB, MSE: 0.000005, Val Loss: 0.0104, SNR: 28.49dB, MSE: 0.000006, LR: 1.00e-04\n"
          ]
        },
        {
          "output_type": "stream",
          "name": "stderr",
          "text": [
            "Epoch 18/100: 100%|██████████| 585/585 [06:14<00:00,  1.56it/s, loss=0.0113, SNR=33.73dB]\n"
          ]
        },
        {
          "output_type": "stream",
          "name": "stdout",
          "text": [
            "Epoch [18/100] - Train Loss: 0.0181, SNR: 29.41dB, MSE: 0.000005, Val Loss: 0.0089, SNR: 29.38dB, MSE: 0.000005, LR: 1.00e-04\n",
            "New best model saved (val_loss: 0.0089, SNR: 29.38dB)\n"
          ]
        },
        {
          "output_type": "stream",
          "name": "stderr",
          "text": [
            "Epoch 19/100: 100%|██████████| 585/585 [06:15<00:00,  1.56it/s, loss=0.0102, SNR=30.60dB]\n"
          ]
        },
        {
          "output_type": "stream",
          "name": "stdout",
          "text": [
            "Epoch [19/100] - Train Loss: 0.0173, SNR: 29.47dB, MSE: 0.000005, Val Loss: 0.0089, SNR: 28.92dB, MSE: 0.000005, LR: 1.00e-04\n",
            "New best model saved (val_loss: 0.0089, SNR: 28.92dB)\n"
          ]
        },
        {
          "output_type": "stream",
          "name": "stderr",
          "text": [
            "Epoch 20/100: 100%|██████████| 585/585 [06:16<00:00,  1.55it/s, loss=0.0103, SNR=34.16dB]\n"
          ]
        },
        {
          "output_type": "stream",
          "name": "stdout",
          "text": [
            "Epoch [20/100] - Train Loss: 0.0167, SNR: 29.53dB, MSE: 0.000005, Val Loss: 0.0089, SNR: 29.43dB, MSE: 0.000005, LR: 1.00e-04\n",
            "New best model saved (val_loss: 0.0089, SNR: 29.43dB)\n"
          ]
        },
        {
          "output_type": "stream",
          "name": "stderr",
          "text": [
            "Epoch 21/100: 100%|██████████| 585/585 [06:15<00:00,  1.56it/s, loss=0.0200, SNR=29.12dB]\n"
          ]
        },
        {
          "output_type": "stream",
          "name": "stdout",
          "text": [
            "Epoch [21/100] - Train Loss: 0.0158, SNR: 29.60dB, MSE: 0.000005, Val Loss: 0.0079, SNR: 29.84dB, MSE: 0.000004, LR: 1.00e-04\n",
            "New best model saved (val_loss: 0.0079, SNR: 29.84dB)\n"
          ]
        },
        {
          "output_type": "stream",
          "name": "stderr",
          "text": [
            "Epoch 22/100: 100%|██████████| 585/585 [06:14<00:00,  1.56it/s, loss=0.0217, SNR=27.49dB]\n"
          ]
        },
        {
          "output_type": "stream",
          "name": "stdout",
          "text": [
            "Epoch [22/100] - Train Loss: 0.0154, SNR: 29.46dB, MSE: 0.000005, Val Loss: 0.0078, SNR: 29.78dB, MSE: 0.000004, LR: 1.00e-04\n",
            "New best model saved (val_loss: 0.0078, SNR: 29.78dB)\n"
          ]
        },
        {
          "output_type": "stream",
          "name": "stderr",
          "text": [
            "Epoch 23/100: 100%|██████████| 585/585 [06:14<00:00,  1.56it/s, loss=0.0097, SNR=34.02dB]\n"
          ]
        },
        {
          "output_type": "stream",
          "name": "stdout",
          "text": [
            "Epoch [23/100] - Train Loss: 0.0142, SNR: 29.89dB, MSE: 0.000005, Val Loss: 0.0078, SNR: 29.91dB, MSE: 0.000004, LR: 1.00e-04\n"
          ]
        },
        {
          "output_type": "stream",
          "name": "stderr",
          "text": [
            "Epoch 24/100: 100%|██████████| 585/585 [06:14<00:00,  1.56it/s, loss=0.0135, SNR=28.09dB]\n"
          ]
        },
        {
          "output_type": "stream",
          "name": "stdout",
          "text": [
            "Epoch [24/100] - Train Loss: 0.0137, SNR: 29.76dB, MSE: 0.000005, Val Loss: 0.0075, SNR: 28.65dB, MSE: 0.000006, LR: 1.00e-04\n",
            "New best model saved (val_loss: 0.0075, SNR: 28.65dB)\n"
          ]
        },
        {
          "output_type": "stream",
          "name": "stderr",
          "text": [
            "Epoch 25/100: 100%|██████████| 585/585 [06:17<00:00,  1.55it/s, loss=0.0106, SNR=27.08dB]\n"
          ]
        },
        {
          "output_type": "stream",
          "name": "stdout",
          "text": [
            "Epoch [25/100] - Train Loss: 0.0131, SNR: 29.82dB, MSE: 0.000005, Val Loss: 0.0067, SNR: 29.90dB, MSE: 0.000004, LR: 1.00e-04\n",
            "New best model saved (val_loss: 0.0067, SNR: 29.90dB)\n"
          ]
        },
        {
          "output_type": "stream",
          "name": "stderr",
          "text": [
            "Epoch 26/100: 100%|██████████| 585/585 [06:15<00:00,  1.56it/s, loss=0.0085, SNR=33.84dB]\n"
          ]
        },
        {
          "output_type": "stream",
          "name": "stdout",
          "text": [
            "Epoch [26/100] - Train Loss: 0.0124, SNR: 30.02dB, MSE: 0.000005, Val Loss: 0.0071, SNR: 29.03dB, MSE: 0.000005, LR: 1.00e-04\n"
          ]
        },
        {
          "output_type": "stream",
          "name": "stderr",
          "text": [
            "Epoch 27/100: 100%|██████████| 585/585 [06:15<00:00,  1.56it/s, loss=0.0079, SNR=31.88dB]\n"
          ]
        },
        {
          "output_type": "stream",
          "name": "stdout",
          "text": [
            "Epoch [27/100] - Train Loss: 0.0121, SNR: 29.84dB, MSE: 0.000005, Val Loss: 0.0066, SNR: 28.27dB, MSE: 0.000006, LR: 1.00e-04\n",
            "New best model saved (val_loss: 0.0066, SNR: 28.27dB)\n"
          ]
        },
        {
          "output_type": "stream",
          "name": "stderr",
          "text": [
            "Epoch 28/100: 100%|██████████| 585/585 [06:17<00:00,  1.55it/s, loss=0.0117, SNR=26.42dB]\n"
          ]
        },
        {
          "output_type": "stream",
          "name": "stdout",
          "text": [
            "Epoch [28/100] - Train Loss: 0.0112, SNR: 30.13dB, MSE: 0.000005, Val Loss: 0.0063, SNR: 28.97dB, MSE: 0.000005, LR: 1.00e-04\n",
            "New best model saved (val_loss: 0.0063, SNR: 28.97dB)\n"
          ]
        },
        {
          "output_type": "stream",
          "name": "stderr",
          "text": [
            "Epoch 29/100: 100%|██████████| 585/585 [06:17<00:00,  1.55it/s, loss=0.0223, SNR=21.18dB]\n"
          ]
        },
        {
          "output_type": "stream",
          "name": "stdout",
          "text": [
            "Epoch [29/100] - Train Loss: 0.0107, SNR: 30.18dB, MSE: 0.000005, Val Loss: 0.0053, SNR: 30.03dB, MSE: 0.000004, LR: 1.00e-04\n",
            "New best model saved (val_loss: 0.0053, SNR: 30.03dB)\n"
          ]
        },
        {
          "output_type": "stream",
          "name": "stderr",
          "text": [
            "Epoch 30/100: 100%|██████████| 585/585 [06:15<00:00,  1.56it/s, loss=0.0153, SNR=25.36dB]\n"
          ]
        },
        {
          "output_type": "stream",
          "name": "stdout",
          "text": [
            "Epoch [30/100] - Train Loss: 0.0102, SNR: 30.17dB, MSE: 0.000005, Val Loss: 0.0057, SNR: 28.83dB, MSE: 0.000005, LR: 1.00e-04\n"
          ]
        },
        {
          "output_type": "stream",
          "name": "stderr",
          "text": [
            "Epoch 31/100: 100%|██████████| 585/585 [06:15<00:00,  1.56it/s, loss=0.0202, SNR=28.18dB]\n"
          ]
        },
        {
          "output_type": "stream",
          "name": "stdout",
          "text": [
            "Epoch [31/100] - Train Loss: 0.0097, SNR: 30.24dB, MSE: 0.000005, Val Loss: 0.0061, SNR: 28.79dB, MSE: 0.000005, LR: 1.00e-04\n"
          ]
        },
        {
          "output_type": "stream",
          "name": "stderr",
          "text": [
            "Epoch 32/100: 100%|██████████| 585/585 [06:14<00:00,  1.56it/s, loss=0.0037, SNR=35.87dB]\n"
          ]
        },
        {
          "output_type": "stream",
          "name": "stdout",
          "text": [
            "Epoch [32/100] - Train Loss: 0.0092, SNR: 30.39dB, MSE: 0.000004, Val Loss: 0.0052, SNR: 29.40dB, MSE: 0.000005, LR: 1.00e-04\n",
            "New best model saved (val_loss: 0.0052, SNR: 29.40dB)\n"
          ]
        },
        {
          "output_type": "stream",
          "name": "stderr",
          "text": [
            "Epoch 33/100: 100%|██████████| 585/585 [06:15<00:00,  1.56it/s, loss=0.0059, SNR=28.36dB]\n"
          ]
        },
        {
          "output_type": "stream",
          "name": "stdout",
          "text": [
            "Epoch [33/100] - Train Loss: 0.0088, SNR: 30.45dB, MSE: 0.000004, Val Loss: 0.0046, SNR: 29.49dB, MSE: 0.000005, LR: 1.00e-04\n",
            "New best model saved (val_loss: 0.0046, SNR: 29.49dB)\n"
          ]
        },
        {
          "output_type": "stream",
          "name": "stderr",
          "text": [
            "Epoch 34/100: 100%|██████████| 585/585 [06:15<00:00,  1.56it/s, loss=0.0084, SNR=27.30dB]\n"
          ]
        },
        {
          "output_type": "stream",
          "name": "stdout",
          "text": [
            "Epoch [34/100] - Train Loss: 0.0086, SNR: 30.23dB, MSE: 0.000004, Val Loss: 0.0049, SNR: 29.29dB, MSE: 0.000005, LR: 1.00e-04\n"
          ]
        },
        {
          "output_type": "stream",
          "name": "stderr",
          "text": [
            "Epoch 35/100: 100%|██████████| 585/585 [06:15<00:00,  1.56it/s, loss=0.0067, SNR=31.80dB]\n"
          ]
        },
        {
          "output_type": "stream",
          "name": "stdout",
          "text": [
            "Epoch [35/100] - Train Loss: 0.0081, SNR: 30.48dB, MSE: 0.000004, Val Loss: 0.0044, SNR: 29.86dB, MSE: 0.000004, LR: 1.00e-04\n",
            "New best model saved (val_loss: 0.0044, SNR: 29.86dB)\n"
          ]
        },
        {
          "output_type": "stream",
          "name": "stderr",
          "text": [
            "Epoch 36/100: 100%|██████████| 585/585 [06:15<00:00,  1.56it/s, loss=0.0039, SNR=36.33dB]\n"
          ]
        },
        {
          "output_type": "stream",
          "name": "stdout",
          "text": [
            "Epoch [36/100] - Train Loss: 0.0077, SNR: 30.53dB, MSE: 0.000004, Val Loss: 0.0044, SNR: 29.89dB, MSE: 0.000004, LR: 1.00e-04\n",
            "New best model saved (val_loss: 0.0044, SNR: 29.89dB)\n"
          ]
        },
        {
          "output_type": "stream",
          "name": "stderr",
          "text": [
            "Epoch 37/100: 100%|██████████| 585/585 [06:15<00:00,  1.56it/s, loss=0.0076, SNR=29.06dB]\n"
          ]
        },
        {
          "output_type": "stream",
          "name": "stdout",
          "text": [
            "Epoch [37/100] - Train Loss: 0.0073, SNR: 30.48dB, MSE: 0.000004, Val Loss: 0.0042, SNR: 30.14dB, MSE: 0.000004, LR: 1.00e-04\n",
            "New best model saved (val_loss: 0.0042, SNR: 30.14dB)\n"
          ]
        },
        {
          "output_type": "stream",
          "name": "stderr",
          "text": [
            "Epoch 38/100: 100%|██████████| 585/585 [06:15<00:00,  1.56it/s, loss=0.0055, SNR=28.68dB]\n"
          ]
        },
        {
          "output_type": "stream",
          "name": "stdout",
          "text": [
            "Epoch [38/100] - Train Loss: 0.0070, SNR: 30.61dB, MSE: 0.000004, Val Loss: 0.0041, SNR: 30.05dB, MSE: 0.000004, LR: 1.00e-04\n",
            "New best model saved (val_loss: 0.0041, SNR: 30.05dB)\n"
          ]
        },
        {
          "output_type": "stream",
          "name": "stderr",
          "text": [
            "Epoch 39/100: 100%|██████████| 585/585 [06:16<00:00,  1.55it/s, loss=0.0071, SNR=30.66dB]\n"
          ]
        },
        {
          "output_type": "stream",
          "name": "stdout",
          "text": [
            "Epoch [39/100] - Train Loss: 0.0066, SNR: 30.82dB, MSE: 0.000004, Val Loss: 0.0037, SNR: 30.23dB, MSE: 0.000004, LR: 1.00e-04\n",
            "New best model saved (val_loss: 0.0037, SNR: 30.23dB)\n"
          ]
        },
        {
          "output_type": "stream",
          "name": "stderr",
          "text": [
            "Epoch 40/100: 100%|██████████| 585/585 [06:15<00:00,  1.56it/s, loss=0.0080, SNR=21.84dB]\n"
          ]
        },
        {
          "output_type": "stream",
          "name": "stdout",
          "text": [
            "Epoch [40/100] - Train Loss: 0.0064, SNR: 30.62dB, MSE: 0.000004, Val Loss: 0.0037, SNR: 29.12dB, MSE: 0.000005, LR: 1.00e-04\n"
          ]
        },
        {
          "output_type": "stream",
          "name": "stderr",
          "text": [
            "Epoch 41/100: 100%|██████████| 585/585 [06:15<00:00,  1.56it/s, loss=0.0045, SNR=33.43dB]\n"
          ]
        },
        {
          "output_type": "stream",
          "name": "stdout",
          "text": [
            "Epoch [41/100] - Train Loss: 0.0061, SNR: 30.68dB, MSE: 0.000004, Val Loss: 0.0041, SNR: 29.14dB, MSE: 0.000005, LR: 1.00e-04\n"
          ]
        },
        {
          "output_type": "stream",
          "name": "stderr",
          "text": [
            "Epoch 42/100: 100%|██████████| 585/585 [06:15<00:00,  1.56it/s, loss=0.0059, SNR=28.41dB]\n"
          ]
        },
        {
          "output_type": "stream",
          "name": "stdout",
          "text": [
            "Epoch [42/100] - Train Loss: 0.0058, SNR: 30.76dB, MSE: 0.000004, Val Loss: 0.0036, SNR: 28.44dB, MSE: 0.000006, LR: 1.00e-04\n",
            "New best model saved (val_loss: 0.0036, SNR: 28.44dB)\n"
          ]
        },
        {
          "output_type": "stream",
          "name": "stderr",
          "text": [
            "Epoch 43/100: 100%|██████████| 585/585 [06:15<00:00,  1.56it/s, loss=0.0022, SNR=36.01dB]\n"
          ]
        },
        {
          "output_type": "stream",
          "name": "stdout",
          "text": [
            "Epoch [43/100] - Train Loss: 0.0055, SNR: 30.81dB, MSE: 0.000004, Val Loss: 0.0031, SNR: 30.40dB, MSE: 0.000004, LR: 1.00e-04\n",
            "New best model saved (val_loss: 0.0031, SNR: 30.40dB)\n"
          ]
        },
        {
          "output_type": "stream",
          "name": "stderr",
          "text": [
            "Epoch 44/100: 100%|██████████| 585/585 [06:15<00:00,  1.56it/s, loss=0.0059, SNR=24.68dB]\n"
          ]
        },
        {
          "output_type": "stream",
          "name": "stdout",
          "text": [
            "Epoch [44/100] - Train Loss: 0.0053, SNR: 30.81dB, MSE: 0.000004, Val Loss: 0.0031, SNR: 29.58dB, MSE: 0.000005, LR: 1.00e-04\n"
          ]
        },
        {
          "output_type": "stream",
          "name": "stderr",
          "text": [
            "Epoch 45/100: 100%|██████████| 585/585 [06:15<00:00,  1.56it/s, loss=0.0040, SNR=32.65dB]\n"
          ]
        },
        {
          "output_type": "stream",
          "name": "stdout",
          "text": [
            "Epoch [45/100] - Train Loss: 0.0051, SNR: 30.82dB, MSE: 0.000004, Val Loss: 0.0027, SNR: 30.36dB, MSE: 0.000004, LR: 1.00e-04\n",
            "New best model saved (val_loss: 0.0027, SNR: 30.36dB)\n"
          ]
        },
        {
          "output_type": "stream",
          "name": "stderr",
          "text": [
            "Epoch 46/100: 100%|██████████| 585/585 [06:16<00:00,  1.55it/s, loss=0.0035, SNR=35.32dB]\n"
          ]
        },
        {
          "output_type": "stream",
          "name": "stdout",
          "text": [
            "Epoch [46/100] - Train Loss: 0.0048, SNR: 30.92dB, MSE: 0.000004, Val Loss: 0.0028, SNR: 30.23dB, MSE: 0.000004, LR: 1.00e-04\n"
          ]
        },
        {
          "output_type": "stream",
          "name": "stderr",
          "text": [
            "Epoch 47/100: 100%|██████████| 585/585 [06:16<00:00,  1.55it/s, loss=0.0086, SNR=25.62dB]\n"
          ]
        },
        {
          "output_type": "stream",
          "name": "stdout",
          "text": [
            "Epoch [47/100] - Train Loss: 0.0046, SNR: 30.89dB, MSE: 0.000004, Val Loss: 0.0027, SNR: 29.48dB, MSE: 0.000005, LR: 1.00e-04\n",
            "New best model saved (val_loss: 0.0027, SNR: 29.48dB)\n"
          ]
        },
        {
          "output_type": "stream",
          "name": "stderr",
          "text": [
            "Epoch 48/100: 100%|██████████| 585/585 [06:16<00:00,  1.55it/s, loss=0.0042, SNR=33.40dB]\n"
          ]
        },
        {
          "output_type": "stream",
          "name": "stdout",
          "text": [
            "Epoch [48/100] - Train Loss: 0.0044, SNR: 30.91dB, MSE: 0.000004, Val Loss: 0.0026, SNR: 30.11dB, MSE: 0.000004, LR: 1.00e-04\n",
            "New best model saved (val_loss: 0.0026, SNR: 30.11dB)\n"
          ]
        },
        {
          "output_type": "stream",
          "name": "stderr",
          "text": [
            "Epoch 49/100: 100%|██████████| 585/585 [06:17<00:00,  1.55it/s, loss=0.0065, SNR=25.14dB]\n"
          ]
        },
        {
          "output_type": "stream",
          "name": "stdout",
          "text": [
            "Epoch [49/100] - Train Loss: 0.0042, SNR: 31.00dB, MSE: 0.000004, Val Loss: 0.0025, SNR: 29.70dB, MSE: 0.000004, LR: 1.00e-04\n",
            "New best model saved (val_loss: 0.0025, SNR: 29.70dB)\n"
          ]
        },
        {
          "output_type": "stream",
          "name": "stderr",
          "text": [
            "Epoch 50/100: 100%|██████████| 585/585 [06:16<00:00,  1.55it/s, loss=0.0049, SNR=25.45dB]\n"
          ]
        },
        {
          "output_type": "stream",
          "name": "stdout",
          "text": [
            "Epoch [50/100] - Train Loss: 0.0040, SNR: 31.07dB, MSE: 0.000004, Val Loss: 0.0028, SNR: 29.13dB, MSE: 0.000005, LR: 1.00e-04\n"
          ]
        },
        {
          "output_type": "stream",
          "name": "stderr",
          "text": [
            "Epoch 51/100: 100%|██████████| 585/585 [06:15<00:00,  1.56it/s, loss=0.0043, SNR=25.89dB]\n"
          ]
        },
        {
          "output_type": "stream",
          "name": "stdout",
          "text": [
            "Epoch [51/100] - Train Loss: 0.0038, SNR: 31.10dB, MSE: 0.000004, Val Loss: 0.0024, SNR: 30.18dB, MSE: 0.000004, LR: 1.00e-04\n",
            "New best model saved (val_loss: 0.0024, SNR: 30.18dB)\n"
          ]
        },
        {
          "output_type": "stream",
          "name": "stderr",
          "text": [
            "Epoch 52/100: 100%|██████████| 585/585 [06:15<00:00,  1.56it/s, loss=0.0023, SNR=33.23dB]\n"
          ]
        },
        {
          "output_type": "stream",
          "name": "stdout",
          "text": [
            "Epoch [52/100] - Train Loss: 0.0036, SNR: 31.09dB, MSE: 0.000004, Val Loss: 0.0022, SNR: 30.35dB, MSE: 0.000004, LR: 1.00e-04\n",
            "New best model saved (val_loss: 0.0022, SNR: 30.35dB)\n"
          ]
        },
        {
          "output_type": "stream",
          "name": "stderr",
          "text": [
            "Epoch 53/100: 100%|██████████| 585/585 [06:15<00:00,  1.56it/s, loss=0.0023, SNR=34.45dB]\n"
          ]
        },
        {
          "output_type": "stream",
          "name": "stdout",
          "text": [
            "Epoch [53/100] - Train Loss: 0.0035, SNR: 31.16dB, MSE: 0.000004, Val Loss: 0.0020, SNR: 30.12dB, MSE: 0.000004, LR: 1.00e-04\n",
            "New best model saved (val_loss: 0.0020, SNR: 30.12dB)\n"
          ]
        },
        {
          "output_type": "stream",
          "name": "stderr",
          "text": [
            "Epoch 54/100: 100%|██████████| 585/585 [06:16<00:00,  1.55it/s, loss=0.0030, SNR=27.29dB]\n"
          ]
        },
        {
          "output_type": "stream",
          "name": "stdout",
          "text": [
            "Epoch [54/100] - Train Loss: 0.0034, SNR: 31.04dB, MSE: 0.000004, Val Loss: 0.0020, SNR: 30.40dB, MSE: 0.000004, LR: 1.00e-04\n",
            "New best model saved (val_loss: 0.0020, SNR: 30.40dB)\n"
          ]
        },
        {
          "output_type": "stream",
          "name": "stderr",
          "text": [
            "Epoch 55/100: 100%|██████████| 585/585 [06:17<00:00,  1.55it/s, loss=0.0022, SNR=32.27dB]\n"
          ]
        },
        {
          "output_type": "stream",
          "name": "stdout",
          "text": [
            "Epoch [55/100] - Train Loss: 0.0032, SNR: 31.18dB, MSE: 0.000004, Val Loss: 0.0020, SNR: 29.29dB, MSE: 0.000005, LR: 1.00e-04\n"
          ]
        },
        {
          "output_type": "stream",
          "name": "stderr",
          "text": [
            "Epoch 56/100: 100%|██████████| 585/585 [06:14<00:00,  1.56it/s, loss=0.0017, SNR=36.27dB]\n"
          ]
        },
        {
          "output_type": "stream",
          "name": "stdout",
          "text": [
            "Epoch [56/100] - Train Loss: 0.0031, SNR: 31.16dB, MSE: 0.000004, Val Loss: 0.0019, SNR: 30.57dB, MSE: 0.000004, LR: 1.00e-04\n",
            "New best model saved (val_loss: 0.0019, SNR: 30.57dB)\n"
          ]
        },
        {
          "output_type": "stream",
          "name": "stderr",
          "text": [
            "Epoch 57/100: 100%|██████████| 585/585 [06:15<00:00,  1.56it/s, loss=0.0026, SNR=27.94dB]\n"
          ]
        },
        {
          "output_type": "stream",
          "name": "stdout",
          "text": [
            "Epoch [57/100] - Train Loss: 0.0029, SNR: 31.26dB, MSE: 0.000004, Val Loss: 0.0018, SNR: 30.71dB, MSE: 0.000004, LR: 1.00e-04\n",
            "New best model saved (val_loss: 0.0018, SNR: 30.71dB)\n"
          ]
        },
        {
          "output_type": "stream",
          "name": "stderr",
          "text": [
            "Epoch 58/100: 100%|██████████| 585/585 [06:14<00:00,  1.56it/s, loss=0.0031, SNR=29.07dB]\n"
          ]
        },
        {
          "output_type": "stream",
          "name": "stdout",
          "text": [
            "Epoch [58/100] - Train Loss: 0.0028, SNR: 31.19dB, MSE: 0.000004, Val Loss: 0.0018, SNR: 29.83dB, MSE: 0.000004, LR: 1.00e-04\n"
          ]
        },
        {
          "output_type": "stream",
          "name": "stderr",
          "text": [
            "Epoch 59/100: 100%|██████████| 585/585 [06:14<00:00,  1.56it/s, loss=0.0016, SNR=35.85dB]\n"
          ]
        },
        {
          "output_type": "stream",
          "name": "stdout",
          "text": [
            "Epoch [59/100] - Train Loss: 0.0027, SNR: 31.27dB, MSE: 0.000004, Val Loss: 0.0018, SNR: 30.15dB, MSE: 0.000004, LR: 1.00e-04\n",
            "New best model saved (val_loss: 0.0018, SNR: 30.15dB)\n"
          ]
        },
        {
          "output_type": "stream",
          "name": "stderr",
          "text": [
            "Epoch 60/100: 100%|██████████| 585/585 [06:17<00:00,  1.55it/s, loss=0.0037, SNR=24.70dB]\n"
          ]
        },
        {
          "output_type": "stream",
          "name": "stdout",
          "text": [
            "Epoch [60/100] - Train Loss: 0.0025, SNR: 31.20dB, MSE: 0.000004, Val Loss: 0.0016, SNR: 30.50dB, MSE: 0.000004, LR: 1.00e-04\n",
            "New best model saved (val_loss: 0.0016, SNR: 30.50dB)\n"
          ]
        },
        {
          "output_type": "stream",
          "name": "stderr",
          "text": [
            "Epoch 61/100: 100%|██████████| 585/585 [06:14<00:00,  1.56it/s, loss=0.0024, SNR=28.01dB]\n"
          ]
        },
        {
          "output_type": "stream",
          "name": "stdout",
          "text": [
            "Epoch [61/100] - Train Loss: 0.0024, SNR: 31.30dB, MSE: 0.000004, Val Loss: 0.0017, SNR: 29.16dB, MSE: 0.000005, LR: 1.00e-04\n"
          ]
        },
        {
          "output_type": "stream",
          "name": "stderr",
          "text": [
            "Epoch 62/100: 100%|██████████| 585/585 [06:14<00:00,  1.56it/s, loss=0.0010, SNR=38.26dB]\n"
          ]
        },
        {
          "output_type": "stream",
          "name": "stdout",
          "text": [
            "Epoch [62/100] - Train Loss: 0.0024, SNR: 31.20dB, MSE: 0.000004, Val Loss: 0.0016, SNR: 30.18dB, MSE: 0.000004, LR: 1.00e-04\n"
          ]
        },
        {
          "output_type": "stream",
          "name": "stderr",
          "text": [
            "Epoch 63/100: 100%|██████████| 585/585 [06:14<00:00,  1.56it/s, loss=0.0036, SNR=33.44dB]\n"
          ]
        },
        {
          "output_type": "stream",
          "name": "stdout",
          "text": [
            "Epoch [63/100] - Train Loss: 0.0023, SNR: 31.24dB, MSE: 0.000004, Val Loss: 0.0013, SNR: 30.61dB, MSE: 0.000004, LR: 1.00e-04\n",
            "New best model saved (val_loss: 0.0013, SNR: 30.61dB)\n"
          ]
        },
        {
          "output_type": "stream",
          "name": "stderr",
          "text": [
            "Epoch 64/100: 100%|██████████| 585/585 [06:16<00:00,  1.55it/s, loss=0.0013, SNR=38.26dB]\n"
          ]
        },
        {
          "output_type": "stream",
          "name": "stdout",
          "text": [
            "Epoch [64/100] - Train Loss: 0.0022, SNR: 31.24dB, MSE: 0.000004, Val Loss: 0.0015, SNR: 30.32dB, MSE: 0.000004, LR: 1.00e-04\n"
          ]
        },
        {
          "output_type": "stream",
          "name": "stderr",
          "text": [
            "Epoch 65/100: 100%|██████████| 585/585 [06:14<00:00,  1.56it/s, loss=0.0009, SNR=33.87dB]\n"
          ]
        },
        {
          "output_type": "stream",
          "name": "stdout",
          "text": [
            "Epoch [65/100] - Train Loss: 0.0021, SNR: 31.29dB, MSE: 0.000004, Val Loss: 0.0015, SNR: 29.94dB, MSE: 0.000004, LR: 1.00e-04\n"
          ]
        },
        {
          "output_type": "stream",
          "name": "stderr",
          "text": [
            "Epoch 66/100: 100%|██████████| 585/585 [06:14<00:00,  1.56it/s, loss=0.0028, SNR=27.78dB]\n"
          ]
        },
        {
          "output_type": "stream",
          "name": "stdout",
          "text": [
            "Epoch [66/100] - Train Loss: 0.0020, SNR: 31.25dB, MSE: 0.000004, Val Loss: 0.0013, SNR: 30.39dB, MSE: 0.000004, LR: 1.00e-04\n",
            "New best model saved (val_loss: 0.0013, SNR: 30.39dB)\n"
          ]
        },
        {
          "output_type": "stream",
          "name": "stderr",
          "text": [
            "Epoch 67/100: 100%|██████████| 585/585 [06:14<00:00,  1.56it/s, loss=0.0036, SNR=26.85dB]\n"
          ]
        },
        {
          "output_type": "stream",
          "name": "stdout",
          "text": [
            "Epoch [67/100] - Train Loss: 0.0019, SNR: 31.23dB, MSE: 0.000004, Val Loss: 0.0014, SNR: 28.85dB, MSE: 0.000005, LR: 1.00e-04\n"
          ]
        },
        {
          "output_type": "stream",
          "name": "stderr",
          "text": [
            "Epoch 68/100: 100%|██████████| 585/585 [06:14<00:00,  1.56it/s, loss=0.0013, SNR=35.21dB]\n"
          ]
        },
        {
          "output_type": "stream",
          "name": "stdout",
          "text": [
            "Epoch [68/100] - Train Loss: 0.0018, SNR: 31.29dB, MSE: 0.000004, Val Loss: 0.0012, SNR: 30.53dB, MSE: 0.000004, LR: 1.00e-04\n",
            "New best model saved (val_loss: 0.0012, SNR: 30.53dB)\n"
          ]
        },
        {
          "output_type": "stream",
          "name": "stderr",
          "text": [
            "Epoch 69/100: 100%|██████████| 585/585 [06:17<00:00,  1.55it/s, loss=0.0026, SNR=33.45dB]\n"
          ]
        },
        {
          "output_type": "stream",
          "name": "stdout",
          "text": [
            "Epoch [69/100] - Train Loss: 0.0018, SNR: 31.33dB, MSE: 0.000004, Val Loss: 0.0012, SNR: 30.11dB, MSE: 0.000004, LR: 1.00e-04\n"
          ]
        },
        {
          "output_type": "stream",
          "name": "stderr",
          "text": [
            "Epoch 70/100: 100%|██████████| 585/585 [06:14<00:00,  1.56it/s, loss=0.0011, SNR=31.12dB]\n"
          ]
        },
        {
          "output_type": "stream",
          "name": "stdout",
          "text": [
            "Epoch [70/100] - Train Loss: 0.0017, SNR: 31.37dB, MSE: 0.000004, Val Loss: 0.0010, SNR: 30.67dB, MSE: 0.000004, LR: 1.00e-04\n",
            "New best model saved (val_loss: 0.0010, SNR: 30.67dB)\n"
          ]
        },
        {
          "output_type": "stream",
          "name": "stderr",
          "text": [
            "Epoch 71/100: 100%|██████████| 585/585 [06:15<00:00,  1.56it/s, loss=0.0011, SNR=34.24dB]\n"
          ]
        },
        {
          "output_type": "stream",
          "name": "stdout",
          "text": [
            "Epoch [71/100] - Train Loss: 0.0016, SNR: 31.32dB, MSE: 0.000004, Val Loss: 0.0011, SNR: 30.00dB, MSE: 0.000004, LR: 1.00e-04\n"
          ]
        },
        {
          "output_type": "stream",
          "name": "stderr",
          "text": [
            "Epoch 72/100: 100%|██████████| 585/585 [06:15<00:00,  1.56it/s, loss=0.0013, SNR=30.94dB]\n"
          ]
        },
        {
          "output_type": "stream",
          "name": "stdout",
          "text": [
            "Epoch [72/100] - Train Loss: 0.0016, SNR: 31.26dB, MSE: 0.000004, Val Loss: 0.0011, SNR: 30.55dB, MSE: 0.000004, LR: 1.00e-04\n"
          ]
        },
        {
          "output_type": "stream",
          "name": "stderr",
          "text": [
            "Epoch 73/100: 100%|██████████| 585/585 [06:16<00:00,  1.56it/s, loss=0.0016, SNR=30.87dB]\n"
          ]
        },
        {
          "output_type": "stream",
          "name": "stdout",
          "text": [
            "Epoch [73/100] - Train Loss: 0.0015, SNR: 31.37dB, MSE: 0.000004, Val Loss: 0.0010, SNR: 30.81dB, MSE: 0.000004, LR: 5.00e-05\n"
          ]
        },
        {
          "output_type": "stream",
          "name": "stderr",
          "text": [
            "Epoch 74/100: 100%|██████████| 585/585 [06:16<00:00,  1.56it/s, loss=0.0018, SNR=31.11dB]\n"
          ]
        },
        {
          "output_type": "stream",
          "name": "stdout",
          "text": [
            "Epoch [74/100] - Train Loss: 0.0013, SNR: 31.76dB, MSE: 0.000003, Val Loss: 0.0009, SNR: 30.88dB, MSE: 0.000004, LR: 5.00e-05\n",
            "New best model saved (val_loss: 0.0009, SNR: 30.88dB)\n"
          ]
        },
        {
          "output_type": "stream",
          "name": "stderr",
          "text": [
            "Epoch 75/100: 100%|██████████| 585/585 [06:17<00:00,  1.55it/s, loss=0.0014, SNR=30.94dB]\n"
          ]
        },
        {
          "output_type": "stream",
          "name": "stdout",
          "text": [
            "Epoch [75/100] - Train Loss: 0.0013, SNR: 31.74dB, MSE: 0.000003, Val Loss: 0.0010, SNR: 30.25dB, MSE: 0.000004, LR: 5.00e-05\n"
          ]
        },
        {
          "output_type": "stream",
          "name": "stderr",
          "text": [
            "Epoch 76/100: 100%|██████████| 585/585 [06:15<00:00,  1.56it/s, loss=0.0006, SNR=41.85dB]\n"
          ]
        },
        {
          "output_type": "stream",
          "name": "stdout",
          "text": [
            "Epoch [76/100] - Train Loss: 0.0013, SNR: 31.70dB, MSE: 0.000003, Val Loss: 0.0009, SNR: 30.75dB, MSE: 0.000004, LR: 5.00e-05\n",
            "New best model saved (val_loss: 0.0009, SNR: 30.75dB)\n"
          ]
        },
        {
          "output_type": "stream",
          "name": "stderr",
          "text": [
            "Epoch 77/100: 100%|██████████| 585/585 [06:14<00:00,  1.56it/s, loss=0.0007, SNR=35.64dB]\n"
          ]
        },
        {
          "output_type": "stream",
          "name": "stdout",
          "text": [
            "Epoch [77/100] - Train Loss: 0.0013, SNR: 31.71dB, MSE: 0.000003, Val Loss: 0.0009, SNR: 30.79dB, MSE: 0.000004, LR: 5.00e-05\n",
            "New best model saved (val_loss: 0.0009, SNR: 30.79dB)\n"
          ]
        },
        {
          "output_type": "stream",
          "name": "stderr",
          "text": [
            "Epoch 78/100: 100%|██████████| 585/585 [06:17<00:00,  1.55it/s, loss=0.0012, SNR=32.87dB]\n"
          ]
        },
        {
          "output_type": "stream",
          "name": "stdout",
          "text": [
            "Epoch [78/100] - Train Loss: 0.0012, SNR: 31.75dB, MSE: 0.000003, Val Loss: 0.0009, SNR: 30.76dB, MSE: 0.000004, LR: 5.00e-05\n"
          ]
        },
        {
          "output_type": "stream",
          "name": "stderr",
          "text": [
            "Epoch 79/100: 100%|██████████| 585/585 [06:15<00:00,  1.56it/s, loss=0.0015, SNR=28.18dB]\n"
          ]
        },
        {
          "output_type": "stream",
          "name": "stdout",
          "text": [
            "Epoch [79/100] - Train Loss: 0.0012, SNR: 31.62dB, MSE: 0.000003, Val Loss: 0.0009, SNR: 30.28dB, MSE: 0.000004, LR: 5.00e-05\n"
          ]
        },
        {
          "output_type": "stream",
          "name": "stderr",
          "text": [
            "Epoch 80/100: 100%|██████████| 585/585 [06:16<00:00,  1.55it/s, loss=0.0011, SNR=36.80dB]\n"
          ]
        },
        {
          "output_type": "stream",
          "name": "stdout",
          "text": [
            "Epoch [80/100] - Train Loss: 0.0012, SNR: 31.76dB, MSE: 0.000003, Val Loss: 0.0008, SNR: 30.61dB, MSE: 0.000004, LR: 5.00e-05\n",
            "New best model saved (val_loss: 0.0008, SNR: 30.61dB)\n"
          ]
        },
        {
          "output_type": "stream",
          "name": "stderr",
          "text": [
            "Epoch 81/100: 100%|██████████| 585/585 [06:18<00:00,  1.54it/s, loss=0.0012, SNR=29.00dB]\n"
          ]
        },
        {
          "output_type": "stream",
          "name": "stdout",
          "text": [
            "Epoch [81/100] - Train Loss: 0.0012, SNR: 31.76dB, MSE: 0.000003, Val Loss: 0.0009, SNR: 30.77dB, MSE: 0.000004, LR: 5.00e-05\n"
          ]
        },
        {
          "output_type": "stream",
          "name": "stderr",
          "text": [
            "Epoch 82/100: 100%|██████████| 585/585 [06:16<00:00,  1.55it/s, loss=0.0009, SNR=32.16dB]\n"
          ]
        },
        {
          "output_type": "stream",
          "name": "stdout",
          "text": [
            "Epoch [82/100] - Train Loss: 0.0012, SNR: 31.72dB, MSE: 0.000003, Val Loss: 0.0008, SNR: 30.55dB, MSE: 0.000004, LR: 5.00e-05\n",
            "New best model saved (val_loss: 0.0008, SNR: 30.55dB)\n"
          ]
        },
        {
          "output_type": "stream",
          "name": "stderr",
          "text": [
            "Epoch 83/100: 100%|██████████| 585/585 [06:16<00:00,  1.55it/s, loss=0.0019, SNR=29.18dB]\n"
          ]
        },
        {
          "output_type": "stream",
          "name": "stdout",
          "text": [
            "Epoch [83/100] - Train Loss: 0.0011, SNR: 31.74dB, MSE: 0.000003, Val Loss: 0.0008, SNR: 30.83dB, MSE: 0.000004, LR: 5.00e-05\n",
            "New best model saved (val_loss: 0.0008, SNR: 30.83dB)\n"
          ]
        },
        {
          "output_type": "stream",
          "name": "stderr",
          "text": [
            "Epoch 84/100: 100%|██████████| 585/585 [06:17<00:00,  1.55it/s, loss=0.0007, SNR=36.59dB]\n"
          ]
        },
        {
          "output_type": "stream",
          "name": "stdout",
          "text": [
            "Epoch [84/100] - Train Loss: 0.0011, SNR: 31.74dB, MSE: 0.000003, Val Loss: 0.0008, SNR: 30.77dB, MSE: 0.000004, LR: 5.00e-05\n",
            "New best model saved (val_loss: 0.0008, SNR: 30.77dB)\n"
          ]
        },
        {
          "output_type": "stream",
          "name": "stderr",
          "text": [
            "Epoch 85/100: 100%|██████████| 585/585 [06:15<00:00,  1.56it/s, loss=0.0018, SNR=23.97dB]\n"
          ]
        },
        {
          "output_type": "stream",
          "name": "stdout",
          "text": [
            "Epoch [85/100] - Train Loss: 0.0011, SNR: 31.83dB, MSE: 0.000003, Val Loss: 0.0008, SNR: 30.70dB, MSE: 0.000004, LR: 5.00e-05\n"
          ]
        },
        {
          "output_type": "stream",
          "name": "stderr",
          "text": [
            "Epoch 86/100: 100%|██████████| 585/585 [06:16<00:00,  1.55it/s, loss=0.0009, SNR=33.47dB]\n"
          ]
        },
        {
          "output_type": "stream",
          "name": "stdout",
          "text": [
            "Epoch [86/100] - Train Loss: 0.0011, SNR: 31.79dB, MSE: 0.000003, Val Loss: 0.0008, SNR: 30.56dB, MSE: 0.000004, LR: 5.00e-05\n"
          ]
        },
        {
          "output_type": "stream",
          "name": "stderr",
          "text": [
            "Epoch 87/100: 100%|██████████| 585/585 [06:16<00:00,  1.55it/s, loss=0.0011, SNR=33.92dB]\n"
          ]
        },
        {
          "output_type": "stream",
          "name": "stdout",
          "text": [
            "Epoch [87/100] - Train Loss: 0.0011, SNR: 31.70dB, MSE: 0.000003, Val Loss: 0.0008, SNR: 30.75dB, MSE: 0.000004, LR: 2.50e-05\n"
          ]
        },
        {
          "output_type": "stream",
          "name": "stderr",
          "text": [
            "Epoch 88/100: 100%|██████████| 585/585 [06:15<00:00,  1.56it/s, loss=0.0009, SNR=33.52dB]\n"
          ]
        },
        {
          "output_type": "stream",
          "name": "stdout",
          "text": [
            "Epoch [88/100] - Train Loss: 0.0010, SNR: 31.96dB, MSE: 0.000003, Val Loss: 0.0007, SNR: 30.78dB, MSE: 0.000004, LR: 2.50e-05\n",
            "New best model saved (val_loss: 0.0007, SNR: 30.78dB)\n"
          ]
        },
        {
          "output_type": "stream",
          "name": "stderr",
          "text": [
            "Epoch 89/100: 100%|██████████| 585/585 [06:15<00:00,  1.56it/s, loss=0.0005, SNR=35.08dB]\n"
          ]
        },
        {
          "output_type": "stream",
          "name": "stdout",
          "text": [
            "Epoch [89/100] - Train Loss: 0.0010, SNR: 32.01dB, MSE: 0.000003, Val Loss: 0.0007, SNR: 30.97dB, MSE: 0.000004, LR: 2.50e-05\n",
            "New best model saved (val_loss: 0.0007, SNR: 30.97dB)\n"
          ]
        },
        {
          "output_type": "stream",
          "name": "stderr",
          "text": [
            "Epoch 90/100: 100%|██████████| 585/585 [06:17<00:00,  1.55it/s, loss=0.0003, SNR=46.51dB]\n"
          ]
        },
        {
          "output_type": "stream",
          "name": "stdout",
          "text": [
            "Epoch [90/100] - Train Loss: 0.0010, SNR: 31.97dB, MSE: 0.000003, Val Loss: 0.0007, SNR: 30.83dB, MSE: 0.000004, LR: 2.50e-05\n"
          ]
        },
        {
          "output_type": "stream",
          "name": "stderr",
          "text": [
            "Epoch 91/100: 100%|██████████| 585/585 [06:15<00:00,  1.56it/s, loss=0.0006, SNR=33.54dB]\n"
          ]
        },
        {
          "output_type": "stream",
          "name": "stdout",
          "text": [
            "Epoch [91/100] - Train Loss: 0.0010, SNR: 31.97dB, MSE: 0.000003, Val Loss: 0.0007, SNR: 30.90dB, MSE: 0.000004, LR: 2.50e-05\n"
          ]
        },
        {
          "output_type": "stream",
          "name": "stderr",
          "text": [
            "Epoch 92/100: 100%|██████████| 585/585 [06:15<00:00,  1.56it/s, loss=0.0007, SNR=34.07dB]\n"
          ]
        },
        {
          "output_type": "stream",
          "name": "stdout",
          "text": [
            "Epoch [92/100] - Train Loss: 0.0009, SNR: 31.94dB, MSE: 0.000003, Val Loss: 0.0007, SNR: 30.99dB, MSE: 0.000004, LR: 2.50e-05\n",
            "New best model saved (val_loss: 0.0007, SNR: 30.99dB)\n"
          ]
        },
        {
          "output_type": "stream",
          "name": "stderr",
          "text": [
            "Epoch 93/100: 100%|██████████| 585/585 [06:17<00:00,  1.55it/s, loss=0.0006, SNR=34.46dB]\n"
          ]
        },
        {
          "output_type": "stream",
          "name": "stdout",
          "text": [
            "Epoch [93/100] - Train Loss: 0.0009, SNR: 31.99dB, MSE: 0.000003, Val Loss: 0.0007, SNR: 30.70dB, MSE: 0.000004, LR: 2.50e-05\n"
          ]
        },
        {
          "output_type": "stream",
          "name": "stderr",
          "text": [
            "Epoch 94/100: 100%|██████████| 585/585 [06:15<00:00,  1.56it/s, loss=0.0008, SNR=32.87dB]\n"
          ]
        },
        {
          "output_type": "stream",
          "name": "stdout",
          "text": [
            "Epoch [94/100] - Train Loss: 0.0009, SNR: 31.95dB, MSE: 0.000003, Val Loss: 0.0007, SNR: 30.76dB, MSE: 0.000004, LR: 2.50e-05\n",
            "New best model saved (val_loss: 0.0007, SNR: 30.76dB)\n"
          ]
        },
        {
          "output_type": "stream",
          "name": "stderr",
          "text": [
            "Epoch 95/100: 100%|██████████| 585/585 [06:15<00:00,  1.56it/s, loss=0.0007, SNR=34.28dB]\n"
          ]
        },
        {
          "output_type": "stream",
          "name": "stdout",
          "text": [
            "Epoch [95/100] - Train Loss: 0.0009, SNR: 32.00dB, MSE: 0.000003, Val Loss: 0.0007, SNR: 30.80dB, MSE: 0.000004, LR: 2.50e-05\n",
            "New best model saved (val_loss: 0.0007, SNR: 30.80dB)\n"
          ]
        },
        {
          "output_type": "stream",
          "name": "stderr",
          "text": [
            "Epoch 96/100: 100%|██████████| 585/585 [06:16<00:00,  1.56it/s, loss=0.0003, SNR=44.63dB]\n"
          ]
        },
        {
          "output_type": "stream",
          "name": "stdout",
          "text": [
            "Epoch [96/100] - Train Loss: 0.0009, SNR: 32.02dB, MSE: 0.000003, Val Loss: 0.0007, SNR: 30.77dB, MSE: 0.000004, LR: 2.50e-05\n",
            "New best model saved (val_loss: 0.0007, SNR: 30.77dB)\n"
          ]
        },
        {
          "output_type": "stream",
          "name": "stderr",
          "text": [
            "Epoch 97/100: 100%|██████████| 585/585 [06:16<00:00,  1.55it/s, loss=0.0010, SNR=32.92dB]\n"
          ]
        },
        {
          "output_type": "stream",
          "name": "stdout",
          "text": [
            "Epoch [97/100] - Train Loss: 0.0009, SNR: 32.00dB, MSE: 0.000003, Val Loss: 0.0007, SNR: 30.90dB, MSE: 0.000004, LR: 2.50e-05\n"
          ]
        },
        {
          "output_type": "stream",
          "name": "stderr",
          "text": [
            "Epoch 98/100: 100%|██████████| 585/585 [06:15<00:00,  1.56it/s, loss=0.0017, SNR=23.92dB]\n"
          ]
        },
        {
          "output_type": "stream",
          "name": "stdout",
          "text": [
            "Epoch [98/100] - Train Loss: 0.0009, SNR: 31.92dB, MSE: 0.000003, Val Loss: 0.0007, SNR: 30.75dB, MSE: 0.000004, LR: 2.50e-05\n"
          ]
        },
        {
          "output_type": "stream",
          "name": "stderr",
          "text": [
            "Epoch 99/100: 100%|██████████| 585/585 [06:15<00:00,  1.56it/s, loss=0.0015, SNR=35.25dB]\n"
          ]
        },
        {
          "output_type": "stream",
          "name": "stdout",
          "text": [
            "Epoch [99/100] - Train Loss: 0.0009, SNR: 32.02dB, MSE: 0.000003, Val Loss: 0.0007, SNR: 30.74dB, MSE: 0.000004, LR: 2.50e-05\n",
            "New best model saved (val_loss: 0.0007, SNR: 30.74dB)\n"
          ]
        },
        {
          "output_type": "stream",
          "name": "stderr",
          "text": [
            "Epoch 100/100: 100%|██████████| 585/585 [06:15<00:00,  1.56it/s, loss=0.0015, SNR=26.48dB]\n"
          ]
        },
        {
          "output_type": "stream",
          "name": "stdout",
          "text": [
            "Epoch [100/100] - Train Loss: 0.0009, SNR: 31.97dB, MSE: 0.000003, Val Loss: 0.0007, SNR: 30.87dB, MSE: 0.000004, LR: 2.50e-05\n",
            "Plot saved to loss_plot.png\n"
          ]
        },
        {
          "output_type": "display_data",
          "data": {
            "text/plain": [
              "<Figure size 1000x600 with 1 Axes>"
            ],
            "image/png": "[encoded data removed]"
          },
          "metadata": {}
        },
        {
          "output_type": "stream",
          "name": "stdout",
          "text": [
            "Plot saved to metrics_plot.png\n"
          ]
        },
        {
          "output_type": "display_data",
          "data": {
            "text/plain": [
              "<Figure size 1000x1500 with 3 Axes>"
            ],
            "image/png": "[encoded data removed]"
          },
          "metadata": {}
        },
        {
          "output_type": "stream",
          "name": "stderr",
          "text": [
            "<ipython-input-28-f70445797ecd>:37: FutureWarning: You are using `torch.load` with `weights_only=False` (the current default value), which uses the default pickle module implicitly. It is possible to construct malicious pickle data which will execute arbitrary code during unpickling (See https://github.com/pytorch/pytorch/blob/main/SECURITY.md#untrusted-models for more details). In a future release, the default value for `weights_only` will be flipped to `True`. This limits the functions that could be executed during unpickling. Arbitrary objects will no longer be allowed to be loaded via this mode unless they are explicitly allowlisted by the user via `torch.serialization.add_safe_globals`. We recommend you start setting `weights_only=True` for any use case where you don't have full control of the loaded file. Please open an issue on GitHub for any issues related to this experimental feature.\n",
            "  checkpoint = torch.load(checkpoint_path, map_location=device)\n"
          ]
        },
        {
          "output_type": "stream",
          "name": "stdout",
          "text": [
            "Loaded model metrics: SNR = 30.741336160776566dB, MSE = 3.7096095804347706e-06\n",
            "Loaded model from epoch 98 with validation loss: 0.0007\n",
            "Successfully saved using soundfile\n"
          ]
        }
      ]
    },
    {
      "cell_type": "markdown",
      "source": [
        "## Upsample diffwave output files"
      ],
      "metadata": {
        "id": "lspV0qDLkH2U"
      }
    },
    {
      "cell_type": "code",
      "source": [
        "model = FrequencyAwareUpsampling()\n",
        "model, checkpoint, metrics = load_checkpoint(model, \"/content/drive/MyDrive/271_proj/audio_upsampleV2/checkpoints/best_model.pth\")\n",
        "\n",
        "# Run inference\n",
        "for i in range(0,101):\n",
        "  inference(\n",
        "      model=model,\n",
        "      input_file=f\"/content/drive/MyDrive/271_proj/diffwaveOUTPUT/800_output{i}.wav\",\n",
        "      output_file=f\"diffWave_upsample_{i}.wav\"\n",
        "  )"
      ],
      "metadata": {
        "colab": {
          "base_uri": "https://localhost:8080/"
        },
        "id": "33lWLGYQO7hW",
        "outputId": "9276c433-f1c7-4a29-d9bd-b1914e4581a9",
        "collapsed": true
      },
      "execution_count": null,
      "outputs": [
        {
          "output_type": "stream",
          "name": "stderr",
          "text": [
            "<ipython-input-11-cf8bd0fe25f4>:37: FutureWarning: You are using `torch.load` with `weights_only=False` (the current default value), which uses the default pickle module implicitly. It is possible to construct malicious pickle data which will execute arbitrary code during unpickling (See https://github.com/pytorch/pytorch/blob/main/SECURITY.md#untrusted-models for more details). In a future release, the default value for `weights_only` will be flipped to `True`. This limits the functions that could be executed during unpickling. Arbitrary objects will no longer be allowed to be loaded via this mode unless they are explicitly allowlisted by the user via `torch.serialization.add_safe_globals`. We recommend you start setting `weights_only=True` for any use case where you don't have full control of the loaded file. Please open an issue on GitHub for any issues related to this experimental feature.\n",
            "  checkpoint = torch.load(checkpoint_path, map_location=device)\n",
            "/usr/local/lib/python3.10/dist-packages/torch/_dynamo/eval_frame.py:632: UserWarning: torch.utils.checkpoint: the use_reentrant parameter should be passed explicitly. In version 2.5 we will raise an exception if use_reentrant is not passed. use_reentrant=False is recommended, but if you need to preserve the current default behavior, you can pass use_reentrant=True. Refer to docs for more details on the differences between the two variants.\n",
            "  return fn(*args, **kwargs)\n",
            "/usr/local/lib/python3.10/dist-packages/torch/utils/checkpoint.py:87: UserWarning: None of the inputs have requires_grad=True. Gradients will be None\n",
            "  warnings.warn(\n"
          ]
        },
        {
          "output_type": "stream",
          "name": "stdout",
          "text": [
            "Successfully saved using soundfile\n",
            "Successfully saved using soundfile\n",
            "Successfully saved using soundfile\n",
            "Successfully saved using soundfile\n",
            "Successfully saved using soundfile\n",
            "Successfully saved using soundfile\n",
            "Successfully saved using soundfile\n",
            "Successfully saved using soundfile\n",
            "Successfully saved using soundfile\n",
            "Successfully saved using soundfile\n",
            "Successfully saved using soundfile\n",
            "Successfully saved using soundfile\n",
            "Successfully saved using soundfile\n",
            "Successfully saved using soundfile\n",
            "Successfully saved using soundfile\n",
            "Successfully saved using soundfile\n",
            "Successfully saved using soundfile\n",
            "Successfully saved using soundfile\n",
            "Successfully saved using soundfile\n",
            "Successfully saved using soundfile\n",
            "Successfully saved using soundfile\n",
            "Successfully saved using soundfile\n",
            "Successfully saved using soundfile\n",
            "Successfully saved using soundfile\n",
            "Successfully saved using soundfile\n",
            "Successfully saved using soundfile\n",
            "Successfully saved using soundfile\n",
            "Successfully saved using soundfile\n",
            "Successfully saved using soundfile\n",
            "Successfully saved using soundfile\n",
            "Successfully saved using soundfile\n",
            "Successfully saved using soundfile\n",
            "Successfully saved using soundfile\n",
            "Successfully saved using soundfile\n",
            "Successfully saved using soundfile\n",
            "Successfully saved using soundfile\n",
            "Successfully saved using soundfile\n",
            "Successfully saved using soundfile\n",
            "Successfully saved using soundfile\n",
            "Successfully saved using soundfile\n",
            "Successfully saved using soundfile\n",
            "Successfully saved using soundfile\n",
            "Successfully saved using soundfile\n",
            "Successfully saved using soundfile\n",
            "Successfully saved using soundfile\n",
            "Successfully saved using soundfile\n",
            "Successfully saved using soundfile\n",
            "Successfully saved using soundfile\n",
            "Successfully saved using soundfile\n",
            "Successfully saved using soundfile\n",
            "Successfully saved using soundfile\n",
            "Successfully saved using soundfile\n",
            "Successfully saved using soundfile\n",
            "Successfully saved using soundfile\n",
            "Successfully saved using soundfile\n",
            "Successfully saved using soundfile\n",
            "Successfully saved using soundfile\n",
            "Successfully saved using soundfile\n",
            "Successfully saved using soundfile\n",
            "Successfully saved using soundfile\n",
            "Successfully saved using soundfile\n",
            "Successfully saved using soundfile\n",
            "Successfully saved using soundfile\n",
            "Successfully saved using soundfile\n",
            "Successfully saved using soundfile\n",
            "Successfully saved using soundfile\n",
            "Successfully saved using soundfile\n",
            "Successfully saved using soundfile\n",
            "Successfully saved using soundfile\n",
            "Successfully saved using soundfile\n",
            "Successfully saved using soundfile\n",
            "Successfully saved using soundfile\n",
            "Successfully saved using soundfile\n",
            "Successfully saved using soundfile\n",
            "Successfully saved using soundfile\n",
            "Successfully saved using soundfile\n",
            "Successfully saved using soundfile\n",
            "Successfully saved using soundfile\n",
            "Successfully saved using soundfile\n",
            "Successfully saved using soundfile\n",
            "Successfully saved using soundfile\n",
            "Successfully saved using soundfile\n",
            "Successfully saved using soundfile\n",
            "Successfully saved using soundfile\n",
            "Successfully saved using soundfile\n",
            "Successfully saved using soundfile\n",
            "Successfully saved using soundfile\n",
            "Successfully saved using soundfile\n",
            "Successfully saved using soundfile\n",
            "Successfully saved using soundfile\n",
            "Successfully saved using soundfile\n",
            "Successfully saved using soundfile\n",
            "Successfully saved using soundfile\n",
            "Successfully saved using soundfile\n",
            "Successfully saved using soundfile\n",
            "Successfully saved using soundfile\n",
            "Successfully saved using soundfile\n",
            "Successfully saved using soundfile\n",
            "Successfully saved using soundfile\n",
            "Successfully saved using soundfile\n",
            "Successfully saved using soundfile\n"
          ]
        }
      ]
    },
    {
      "cell_type": "markdown",
      "source": [
        "## Upsample wavegan output files"
      ],
      "metadata": {
        "id": "LKgzWFxukUTw"
      }
    },
    {
      "cell_type": "code",
      "source": [
        "model = FrequencyAwareUpsampling()\n",
        "model, checkpoint, metrics = load_checkpoint(model, \"/content/drive/MyDrive/271_proj/audio_upsampleV2/checkpoints/best_model.pth\")\n",
        "\n",
        "# Run inference\n",
        "for i in range(1,101):\n",
        "  inference(\n",
        "      model=model,\n",
        "      input_file=f\"/content/drive/MyDrive/271_proj/waveGAN_results/generated_samples/sample_{i}.wav\",\n",
        "      output_file=f\"waveGAN_upsample_{i}.wav\"\n",
        "  )"
      ],
      "metadata": {
        "colab": {
          "base_uri": "https://localhost:8080/"
        },
        "collapsed": true,
        "id": "9-Hi1gfWIjOp",
        "outputId": "abb848fa-bd98-4336-a41b-d4a01b9a2e8c"
      },
      "execution_count": 13,
      "outputs": [
        {
          "output_type": "stream",
          "name": "stderr",
          "text": [
            "<ipython-input-8-cf8bd0fe25f4>:37: FutureWarning: You are using `torch.load` with `weights_only=False` (the current default value), which uses the default pickle module implicitly. It is possible to construct malicious pickle data which will execute arbitrary code during unpickling (See https://github.com/pytorch/pytorch/blob/main/SECURITY.md#untrusted-models for more details). In a future release, the default value for `weights_only` will be flipped to `True`. This limits the functions that could be executed during unpickling. Arbitrary objects will no longer be allowed to be loaded via this mode unless they are explicitly allowlisted by the user via `torch.serialization.add_safe_globals`. We recommend you start setting `weights_only=True` for any use case where you don't have full control of the loaded file. Please open an issue on GitHub for any issues related to this experimental feature.\n",
            "  checkpoint = torch.load(checkpoint_path, map_location=device)\n"
          ]
        },
        {
          "output_type": "stream",
          "name": "stdout",
          "text": [
            "Successfully saved using soundfile\n",
            "Successfully saved using soundfile\n",
            "Successfully saved using soundfile\n",
            "Successfully saved using soundfile\n",
            "Successfully saved using soundfile\n",
            "Successfully saved using soundfile\n",
            "Successfully saved using soundfile\n",
            "Successfully saved using soundfile\n",
            "Successfully saved using soundfile\n",
            "Successfully saved using soundfile\n",
            "Successfully saved using soundfile\n",
            "Successfully saved using soundfile\n",
            "Successfully saved using soundfile\n",
            "Successfully saved using soundfile\n",
            "Successfully saved using soundfile\n",
            "Successfully saved using soundfile\n",
            "Successfully saved using soundfile\n",
            "Successfully saved using soundfile\n",
            "Successfully saved using soundfile\n",
            "Successfully saved using soundfile\n",
            "Successfully saved using soundfile\n",
            "Successfully saved using soundfile\n",
            "Successfully saved using soundfile\n",
            "Successfully saved using soundfile\n",
            "Successfully saved using soundfile\n",
            "Successfully saved using soundfile\n",
            "Successfully saved using soundfile\n",
            "Successfully saved using soundfile\n",
            "Successfully saved using soundfile\n",
            "Successfully saved using soundfile\n",
            "Successfully saved using soundfile\n",
            "Successfully saved using soundfile\n",
            "Successfully saved using soundfile\n",
            "Successfully saved using soundfile\n",
            "Successfully saved using soundfile\n",
            "Successfully saved using soundfile\n",
            "Successfully saved using soundfile\n",
            "Successfully saved using soundfile\n",
            "Successfully saved using soundfile\n",
            "Successfully saved using soundfile\n",
            "Successfully saved using soundfile\n",
            "Successfully saved using soundfile\n",
            "Successfully saved using soundfile\n",
            "Successfully saved using soundfile\n",
            "Successfully saved using soundfile\n",
            "Successfully saved using soundfile\n",
            "Successfully saved using soundfile\n",
            "Successfully saved using soundfile\n",
            "Successfully saved using soundfile\n",
            "Successfully saved using soundfile\n",
            "Successfully saved using soundfile\n",
            "Successfully saved using soundfile\n",
            "Successfully saved using soundfile\n",
            "Successfully saved using soundfile\n",
            "Successfully saved using soundfile\n",
            "Successfully saved using soundfile\n",
            "Successfully saved using soundfile\n",
            "Successfully saved using soundfile\n",
            "Successfully saved using soundfile\n",
            "Successfully saved using soundfile\n",
            "Successfully saved using soundfile\n",
            "Successfully saved using soundfile\n",
            "Successfully saved using soundfile\n",
            "Successfully saved using soundfile\n",
            "Successfully saved using soundfile\n",
            "Successfully saved using soundfile\n",
            "Successfully saved using soundfile\n",
            "Successfully saved using soundfile\n",
            "Successfully saved using soundfile\n",
            "Successfully saved using soundfile\n",
            "Successfully saved using soundfile\n",
            "Successfully saved using soundfile\n",
            "Successfully saved using soundfile\n",
            "Successfully saved using soundfile\n",
            "Successfully saved using soundfile\n",
            "Successfully saved using soundfile\n",
            "Successfully saved using soundfile\n",
            "Successfully saved using soundfile\n",
            "Successfully saved using soundfile\n",
            "Successfully saved using soundfile\n",
            "Successfully saved using soundfile\n",
            "Successfully saved using soundfile\n",
            "Successfully saved using soundfile\n",
            "Successfully saved using soundfile\n",
            "Successfully saved using soundfile\n",
            "Successfully saved using soundfile\n",
            "Successfully saved using soundfile\n",
            "Successfully saved using soundfile\n",
            "Successfully saved using soundfile\n",
            "Successfully saved using soundfile\n",
            "Successfully saved using soundfile\n",
            "Successfully saved using soundfile\n",
            "Successfully saved using soundfile\n",
            "Successfully saved using soundfile\n",
            "Successfully saved using soundfile\n",
            "Successfully saved using soundfile\n",
            "Successfully saved using soundfile\n",
            "Successfully saved using soundfile\n",
            "Successfully saved using soundfile\n",
            "Successfully saved using soundfile\n"
          ]
        }
      ]
    },
    {
      "cell_type": "markdown",
      "source": [
        "## 5 samples to test"
      ],
      "metadata": {
        "id": "y7KII5L7rHEx"
      }
    },
    {
      "cell_type": "code",
      "source": [
        "model = FrequencyAwareUpsampling()\n",
        "model, checkpoint, metrics = load_checkpoint(model, \"/content/drive/MyDrive/271_proj/audio_upsampleV2/checkpoints/best_model.pth\")\n",
        "\n",
        "# Run inference\n",
        "for i in range(1,6):\n",
        "  inference(\n",
        "      model=model,\n",
        "      input_file=f\"/content/sample{i}_lr.wav\",\n",
        "      output_file=f\"sample{i}_upsampled.wav\"\n",
        "  )"
      ],
      "metadata": {
        "colab": {
          "base_uri": "https://localhost:8080/"
        },
        "id": "89VMQexpq9zU",
        "outputId": "4bc6a893-c56f-433b-ce3a-b70a91c526e5"
      },
      "execution_count": 11,
      "outputs": [
        {
          "output_type": "stream",
          "name": "stderr",
          "text": [
            "<ipython-input-9-cf8bd0fe25f4>:37: FutureWarning: You are using `torch.load` with `weights_only=False` (the current default value), which uses the default pickle module implicitly. It is possible to construct malicious pickle data which will execute arbitrary code during unpickling (See https://github.com/pytorch/pytorch/blob/main/SECURITY.md#untrusted-models for more details). In a future release, the default value for `weights_only` will be flipped to `True`. This limits the functions that could be executed during unpickling. Arbitrary objects will no longer be allowed to be loaded via this mode unless they are explicitly allowlisted by the user via `torch.serialization.add_safe_globals`. We recommend you start setting `weights_only=True` for any use case where you don't have full control of the loaded file. Please open an issue on GitHub for any issues related to this experimental feature.\n",
            "  checkpoint = torch.load(checkpoint_path, map_location=device)\n",
            "/usr/local/lib/python3.10/dist-packages/torch/_dynamo/eval_frame.py:632: UserWarning: torch.utils.checkpoint: the use_reentrant parameter should be passed explicitly. In version 2.5 we will raise an exception if use_reentrant is not passed. use_reentrant=False is recommended, but if you need to preserve the current default behavior, you can pass use_reentrant=True. Refer to docs for more details on the differences between the two variants.\n",
            "  return fn(*args, **kwargs)\n",
            "/usr/local/lib/python3.10/dist-packages/torch/utils/checkpoint.py:87: UserWarning: None of the inputs have requires_grad=True. Gradients will be None\n",
            "  warnings.warn(\n"
          ]
        },
        {
          "output_type": "stream",
          "name": "stdout",
          "text": [
            "Successfully saved using soundfile\n",
            "Successfully saved using soundfile\n",
            "Successfully saved using soundfile\n",
            "Successfully saved using soundfile\n",
            "Successfully saved using soundfile\n"
          ]
        }
      ]
    }
  ]
}